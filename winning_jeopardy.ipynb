{
 "cells": [
  {
   "cell_type": "markdown",
   "metadata": {
    "collapsed": true
   },
   "source": [
    "# Winning Jeopardy\n",
    "\n",
    "This analysis will explore any potential patterns in the questions that are asked on the show 'Jeopardy'. Historical data will be used, which contains 20,000 questions that have been asked on the show."
   ]
  },
  {
   "cell_type": "code",
   "execution_count": 1,
   "metadata": {
    "collapsed": true
   },
   "outputs": [],
   "source": [
    "import pandas as pd\n",
    "\n",
    "# import the csv file into a pandas dataframe\n",
    "jeopardy = pd.read_csv('jeopardy.csv')"
   ]
  },
  {
   "cell_type": "code",
   "execution_count": 2,
   "metadata": {
    "collapsed": false
   },
   "outputs": [
    {
     "data": {
      "text/html": [
       "<div>\n",
       "<style scoped>\n",
       "    .dataframe tbody tr th:only-of-type {\n",
       "        vertical-align: middle;\n",
       "    }\n",
       "\n",
       "    .dataframe tbody tr th {\n",
       "        vertical-align: top;\n",
       "    }\n",
       "\n",
       "    .dataframe thead th {\n",
       "        text-align: right;\n",
       "    }\n",
       "</style>\n",
       "<table border=\"1\" class=\"dataframe\">\n",
       "  <thead>\n",
       "    <tr style=\"text-align: right;\">\n",
       "      <th></th>\n",
       "      <th>Show Number</th>\n",
       "      <th>Air Date</th>\n",
       "      <th>Round</th>\n",
       "      <th>Category</th>\n",
       "      <th>Value</th>\n",
       "      <th>Question</th>\n",
       "      <th>Answer</th>\n",
       "    </tr>\n",
       "  </thead>\n",
       "  <tbody>\n",
       "    <tr>\n",
       "      <th>0</th>\n",
       "      <td>4680</td>\n",
       "      <td>2004-12-31</td>\n",
       "      <td>Jeopardy!</td>\n",
       "      <td>HISTORY</td>\n",
       "      <td>$200</td>\n",
       "      <td>For the last 8 years of his life, Galileo was ...</td>\n",
       "      <td>Copernicus</td>\n",
       "    </tr>\n",
       "    <tr>\n",
       "      <th>1</th>\n",
       "      <td>4680</td>\n",
       "      <td>2004-12-31</td>\n",
       "      <td>Jeopardy!</td>\n",
       "      <td>ESPN's TOP 10 ALL-TIME ATHLETES</td>\n",
       "      <td>$200</td>\n",
       "      <td>No. 2: 1912 Olympian; football star at Carlisl...</td>\n",
       "      <td>Jim Thorpe</td>\n",
       "    </tr>\n",
       "    <tr>\n",
       "      <th>2</th>\n",
       "      <td>4680</td>\n",
       "      <td>2004-12-31</td>\n",
       "      <td>Jeopardy!</td>\n",
       "      <td>EVERYBODY TALKS ABOUT IT...</td>\n",
       "      <td>$200</td>\n",
       "      <td>The city of Yuma in this state has a record av...</td>\n",
       "      <td>Arizona</td>\n",
       "    </tr>\n",
       "    <tr>\n",
       "      <th>3</th>\n",
       "      <td>4680</td>\n",
       "      <td>2004-12-31</td>\n",
       "      <td>Jeopardy!</td>\n",
       "      <td>THE COMPANY LINE</td>\n",
       "      <td>$200</td>\n",
       "      <td>In 1963, live on \"The Art Linkletter Show\", th...</td>\n",
       "      <td>McDonald's</td>\n",
       "    </tr>\n",
       "    <tr>\n",
       "      <th>4</th>\n",
       "      <td>4680</td>\n",
       "      <td>2004-12-31</td>\n",
       "      <td>Jeopardy!</td>\n",
       "      <td>EPITAPHS &amp; TRIBUTES</td>\n",
       "      <td>$200</td>\n",
       "      <td>Signer of the Dec. of Indep., framer of the Co...</td>\n",
       "      <td>John Adams</td>\n",
       "    </tr>\n",
       "  </tbody>\n",
       "</table>\n",
       "</div>"
      ],
      "text/plain": [
       "   Show Number    Air Date      Round                         Category  Value  \\\n",
       "0         4680  2004-12-31  Jeopardy!                          HISTORY   $200   \n",
       "1         4680  2004-12-31  Jeopardy!  ESPN's TOP 10 ALL-TIME ATHLETES   $200   \n",
       "2         4680  2004-12-31  Jeopardy!      EVERYBODY TALKS ABOUT IT...   $200   \n",
       "3         4680  2004-12-31  Jeopardy!                 THE COMPANY LINE   $200   \n",
       "4         4680  2004-12-31  Jeopardy!              EPITAPHS & TRIBUTES   $200   \n",
       "\n",
       "                                            Question      Answer  \n",
       "0  For the last 8 years of his life, Galileo was ...  Copernicus  \n",
       "1  No. 2: 1912 Olympian; football star at Carlisl...  Jim Thorpe  \n",
       "2  The city of Yuma in this state has a record av...     Arizona  \n",
       "3  In 1963, live on \"The Art Linkletter Show\", th...  McDonald's  \n",
       "4  Signer of the Dec. of Indep., framer of the Co...  John Adams  "
      ]
     },
     "execution_count": 2,
     "metadata": {},
     "output_type": "execute_result"
    }
   ],
   "source": [
    "# verify the first 5 rows of the data set\n",
    "jeopardy.head()"
   ]
  },
  {
   "cell_type": "code",
   "execution_count": 3,
   "metadata": {
    "collapsed": false
   },
   "outputs": [
    {
     "data": {
      "text/plain": [
       "Index(['Show Number', ' Air Date', ' Round', ' Category', ' Value',\n",
       "       ' Question', ' Answer'],\n",
       "      dtype='object')"
      ]
     },
     "execution_count": 3,
     "metadata": {},
     "output_type": "execute_result"
    }
   ],
   "source": [
    "# print the column names of the data set\n",
    "jeopardy.columns"
   ]
  },
  {
   "cell_type": "markdown",
   "metadata": {},
   "source": [
    "Since there are spaces before some of the names of the columns, the columns will be renamed not to contain spaces."
   ]
  },
  {
   "cell_type": "code",
   "execution_count": 4,
   "metadata": {
    "collapsed": true
   },
   "outputs": [],
   "source": [
    "# rename the columns of the data set\n",
    "new_col_names = ['show_number', 'air_date', 'round', 'category', 'value', 'question', 'answer']\n",
    "jeopardy.columns = new_col_names"
   ]
  },
  {
   "cell_type": "code",
   "execution_count": 5,
   "metadata": {
    "collapsed": false
   },
   "outputs": [
    {
     "data": {
      "text/plain": [
       "Index(['show_number', 'air_date', 'round', 'category', 'value', 'question',\n",
       "       'answer'],\n",
       "      dtype='object')"
      ]
     },
     "execution_count": 5,
     "metadata": {},
     "output_type": "execute_result"
    }
   ],
   "source": [
    "# verify the column names were changed\n",
    "jeopardy.columns"
   ]
  },
  {
   "cell_type": "code",
   "execution_count": 6,
   "metadata": {
    "collapsed": false
   },
   "outputs": [
    {
     "data": {
      "text/html": [
       "<div>\n",
       "<style scoped>\n",
       "    .dataframe tbody tr th:only-of-type {\n",
       "        vertical-align: middle;\n",
       "    }\n",
       "\n",
       "    .dataframe tbody tr th {\n",
       "        vertical-align: top;\n",
       "    }\n",
       "\n",
       "    .dataframe thead th {\n",
       "        text-align: right;\n",
       "    }\n",
       "</style>\n",
       "<table border=\"1\" class=\"dataframe\">\n",
       "  <thead>\n",
       "    <tr style=\"text-align: right;\">\n",
       "      <th></th>\n",
       "      <th>show_number</th>\n",
       "      <th>air_date</th>\n",
       "      <th>round</th>\n",
       "      <th>category</th>\n",
       "      <th>value</th>\n",
       "      <th>question</th>\n",
       "      <th>answer</th>\n",
       "    </tr>\n",
       "  </thead>\n",
       "  <tbody>\n",
       "    <tr>\n",
       "      <th>0</th>\n",
       "      <td>4680</td>\n",
       "      <td>2004-12-31</td>\n",
       "      <td>Jeopardy!</td>\n",
       "      <td>HISTORY</td>\n",
       "      <td>$200</td>\n",
       "      <td>For the last 8 years of his life, Galileo was ...</td>\n",
       "      <td>Copernicus</td>\n",
       "    </tr>\n",
       "    <tr>\n",
       "      <th>1</th>\n",
       "      <td>4680</td>\n",
       "      <td>2004-12-31</td>\n",
       "      <td>Jeopardy!</td>\n",
       "      <td>ESPN's TOP 10 ALL-TIME ATHLETES</td>\n",
       "      <td>$200</td>\n",
       "      <td>No. 2: 1912 Olympian; football star at Carlisl...</td>\n",
       "      <td>Jim Thorpe</td>\n",
       "    </tr>\n",
       "  </tbody>\n",
       "</table>\n",
       "</div>"
      ],
      "text/plain": [
       "   show_number    air_date      round                         category value  \\\n",
       "0         4680  2004-12-31  Jeopardy!                          HISTORY  $200   \n",
       "1         4680  2004-12-31  Jeopardy!  ESPN's TOP 10 ALL-TIME ATHLETES  $200   \n",
       "\n",
       "                                            question      answer  \n",
       "0  For the last 8 years of his life, Galileo was ...  Copernicus  \n",
       "1  No. 2: 1912 Olympian; football star at Carlisl...  Jim Thorpe  "
      ]
     },
     "execution_count": 6,
     "metadata": {},
     "output_type": "execute_result"
    }
   ],
   "source": [
    "# verify the output of the data set with new column names\n",
    "jeopardy.head(2)"
   ]
  },
  {
   "cell_type": "markdown",
   "metadata": {},
   "source": [
    "The text fields of the data set will need to be normalized so that the same words aren't considered different due to capitalization or punctuation."
   ]
  },
  {
   "cell_type": "code",
   "execution_count": 7,
   "metadata": {
    "collapsed": false
   },
   "outputs": [],
   "source": [
    "import re\n",
    "\n",
    "# create a function to normalize the question and answer fields\n",
    "def normalize_q_a(string):\n",
    "    lower_case_string = string.lower()\n",
    "    lower_case_string = re.sub('[^A-Za-z0-9\\s]', '', lower_case_string)\n",
    "    return lower_case_string"
   ]
  },
  {
   "cell_type": "code",
   "execution_count": 8,
   "metadata": {
    "collapsed": false
   },
   "outputs": [],
   "source": [
    "# create a new column for normalized questions\n",
    "jeopardy['clean_question'] = jeopardy['question'].apply(normalize_q_a)"
   ]
  },
  {
   "cell_type": "code",
   "execution_count": 9,
   "metadata": {
    "collapsed": false
   },
   "outputs": [
    {
     "data": {
      "text/plain": [
       "0    for the last 8 years of his life galileo was u...\n",
       "1    no 2 1912 olympian football star at carlisle i...\n",
       "2    the city of yuma in this state has a record av...\n",
       "3    in 1963 live on the art linkletter show this c...\n",
       "4    signer of the dec of indep framer of the const...\n",
       "5    in the title of an aesop fable this insect sha...\n",
       "6    built in 312 bc to link rome  the south of ita...\n",
       "7    no 8 30 steals for the birmingham barons 2306 ...\n",
       "8    in the winter of 197172 a record 1122 inches o...\n",
       "9    this housewares store was named for the packag...\n",
       "Name: clean_question, dtype: object"
      ]
     },
     "execution_count": 9,
     "metadata": {},
     "output_type": "execute_result"
    }
   ],
   "source": [
    "# verify the cleaned questions\n",
    "jeopardy['clean_question'].head(10)"
   ]
  },
  {
   "cell_type": "code",
   "execution_count": 10,
   "metadata": {
    "collapsed": true
   },
   "outputs": [],
   "source": [
    "# create a new column for normalized answers\n",
    "jeopardy['clean_answer'] = jeopardy['answer'].apply(normalize_q_a)"
   ]
  },
  {
   "cell_type": "code",
   "execution_count": 11,
   "metadata": {
    "collapsed": false
   },
   "outputs": [
    {
     "data": {
      "text/plain": [
       "0        copernicus\n",
       "1        jim thorpe\n",
       "2           arizona\n",
       "3         mcdonalds\n",
       "4        john adams\n",
       "5           the ant\n",
       "6    the appian way\n",
       "7    michael jordan\n",
       "8        washington\n",
       "9     crate  barrel\n",
       "Name: clean_answer, dtype: object"
      ]
     },
     "execution_count": 11,
     "metadata": {},
     "output_type": "execute_result"
    }
   ],
   "source": [
    "# verify the cleaned answers\n",
    "jeopardy['clean_answer'].head(10)"
   ]
  },
  {
   "cell_type": "markdown",
   "metadata": {},
   "source": [
    "The value column will be normalized to remove the dollar sign, and convert the data type from string to numeric. Additionally, the air_date column will be changed from a string to a datetime data type to make it easier to perform analysis with."
   ]
  },
  {
   "cell_type": "code",
   "execution_count": 12,
   "metadata": {
    "collapsed": false
   },
   "outputs": [],
   "source": [
    "# define a function to clean the value column\n",
    "def clean_value(val_string):\n",
    "    no_punct = val_string.replace('$', '')\n",
    "    no_punct = no_punct.replace(',', '')\n",
    "    \n",
    "    # if there's a conversion error, set the value to zero\n",
    "    try:\n",
    "        int_value = int(no_punct)\n",
    "    except Exception:\n",
    "        int_value = 0\n",
    "        \n",
    "    return int_value"
   ]
  },
  {
   "cell_type": "code",
   "execution_count": 13,
   "metadata": {
    "collapsed": true
   },
   "outputs": [],
   "source": [
    "# clean the value column into a new column\n",
    "jeopardy['clean_value'] = jeopardy['value'].apply(clean_value)"
   ]
  },
  {
   "cell_type": "code",
   "execution_count": 14,
   "metadata": {
    "collapsed": false
   },
   "outputs": [
    {
     "data": {
      "text/plain": [
       "0     200\n",
       "1     200\n",
       "2     200\n",
       "3     200\n",
       "4     200\n",
       "5     200\n",
       "6     400\n",
       "7     400\n",
       "8     400\n",
       "9     400\n",
       "10    400\n",
       "11    400\n",
       "12    600\n",
       "13    600\n",
       "14    600\n",
       "15    600\n",
       "16    600\n",
       "17    600\n",
       "18    800\n",
       "19    800\n",
       "Name: clean_value, dtype: int64"
      ]
     },
     "execution_count": 14,
     "metadata": {},
     "output_type": "execute_result"
    }
   ],
   "source": [
    "# verify the output\n",
    "jeopardy['clean_value'].head(20)"
   ]
  },
  {
   "cell_type": "code",
   "execution_count": 15,
   "metadata": {
    "collapsed": true
   },
   "outputs": [],
   "source": [
    "# conver air_date column into a Datetime object\n",
    "jeopardy['air_date'] = pd.to_datetime(jeopardy['air_date'], format='%Y-%m-%d')"
   ]
  },
  {
   "cell_type": "code",
   "execution_count": 16,
   "metadata": {
    "collapsed": false
   },
   "outputs": [
    {
     "data": {
      "text/plain": [
       "0   2004-12-31\n",
       "1   2004-12-31\n",
       "2   2004-12-31\n",
       "3   2004-12-31\n",
       "4   2004-12-31\n",
       "Name: air_date, dtype: datetime64[ns]"
      ]
     },
     "execution_count": 16,
     "metadata": {},
     "output_type": "execute_result"
    }
   ],
   "source": [
    "# verify the output of the cleaned air_date column\n",
    "jeopardy['air_date'].head()"
   ]
  },
  {
   "cell_type": "markdown",
   "metadata": {},
   "source": [
    "## Historical Question Analysis\n",
    "\n",
    "The next step is to determine how frequently historical questions are re-used, and also how often the answer can be deduced from the question itself."
   ]
  },
  {
   "cell_type": "code",
   "execution_count": 17,
   "metadata": {
    "collapsed": true
   },
   "outputs": [],
   "source": [
    "# define a function that finds whether there is a word match from the question and answer\n",
    "def q_a_word_match(row):\n",
    "    split_answer = row['clean_answer'].split(' ')\n",
    "    split_question = row['clean_question'].split(' ')\n",
    "    match_count = 0\n",
    "    \n",
    "    # exclude the word 'the' from the split answers\n",
    "    if 'the' in split_answer:\n",
    "        split_answer.remove('the')\n",
    "    \n",
    "    # return zero if split_answer has no content in the list\n",
    "    if len(split_answer) == 0:\n",
    "        return 0\n",
    "    \n",
    "    for word in split_answer:\n",
    "        if word in split_question:\n",
    "            match_count += 1\n",
    "    \n",
    "    return match_count / len(split_answer)"
   ]
  },
  {
   "cell_type": "code",
   "execution_count": 18,
   "metadata": {
    "collapsed": false
   },
   "outputs": [],
   "source": [
    "# create a new column for the proportion of the answer that is found in the question\n",
    "jeopardy['answer_in_question'] = jeopardy.apply(q_a_word_match, axis=1)"
   ]
  },
  {
   "cell_type": "code",
   "execution_count": 19,
   "metadata": {
    "collapsed": false
   },
   "outputs": [
    {
     "data": {
      "text/plain": [
       "0.000000    17375\n",
       "0.500000     1452\n",
       "0.333333      551\n",
       "0.250000      170\n",
       "1.000000      123\n",
       "0.666667      103\n",
       "0.200000       82\n",
       "0.166667       28\n",
       "0.400000       28\n",
       "0.142857       20\n",
       "0.750000       18\n",
       "0.285714       10\n",
       "0.600000        9\n",
       "0.125000        9\n",
       "0.428571        3\n",
       "0.181818        2\n",
       "0.800000        2\n",
       "0.571429        2\n",
       "0.300000        2\n",
       "0.111111        2\n",
       "0.307692        1\n",
       "0.444444        1\n",
       "0.222222        1\n",
       "0.375000        1\n",
       "0.100000        1\n",
       "0.153846        1\n",
       "0.875000        1\n",
       "0.272727        1\n",
       "Name: answer_in_question, dtype: int64"
      ]
     },
     "execution_count": 19,
     "metadata": {},
     "output_type": "execute_result"
    }
   ],
   "source": [
    "# verify the different proportions\n",
    "jeopardy['answer_in_question'].value_counts()"
   ]
  },
  {
   "cell_type": "code",
   "execution_count": 20,
   "metadata": {
    "collapsed": false
   },
   "outputs": [
    {
     "name": "stdout",
     "output_type": "stream",
     "text": [
      "0.06049325706933587\n"
     ]
    }
   ],
   "source": [
    "# verify the mean proportion of the answer_in_question colum\n",
    "mean_answer_in_question = jeopardy['answer_in_question'].mean()\n",
    "print(mean_answer_in_question)"
   ]
  },
  {
   "cell_type": "markdown",
   "metadata": {},
   "source": [
    "### Mean Analysis\n",
    "\n",
    "The mean displayed above indicates that on average, approximately 6% of the question is contained within the answer. While this is not incredibly significant, this means that it could be worthwhile to pay attention to the words within the question itself to see if the answer can be derived."
   ]
  },
  {
   "cell_type": "code",
   "execution_count": 21,
   "metadata": {
    "collapsed": false
   },
   "outputs": [
    {
     "data": {
      "text/plain": [
       "0.6908737315671962"
      ]
     },
     "execution_count": 21,
     "metadata": {},
     "output_type": "execute_result"
    }
   ],
   "source": [
    "# check whether parts of historical questions have been re-used\n",
    "question_overlap = []\n",
    "terms_used = set()\n",
    "\n",
    "jeopardy.sort_values(by='air_date')\n",
    "\n",
    "for i, row in jeopardy.iterrows():\n",
    "    split_question = row['clean_question'].split(' ')\n",
    "    \n",
    "    # remove words that are less than 6 characters\n",
    "    split_question = [wrd for wrd in split_question if len(wrd) > 5]\n",
    "    \n",
    "    match_count = 0\n",
    "    for word in split_question:\n",
    "        if word in terms_used:\n",
    "            match_count += 1\n",
    "    \n",
    "    # add terms to the set of historical terms\n",
    "    for word in split_question:\n",
    "        terms_used.add(word)\n",
    "        \n",
    "        # calculate the proportion of words that match historical words\n",
    "    if len(split_question) > 0:\n",
    "        match_count /= len(split_question)\n",
    "        \n",
    "    question_overlap.append(match_count)\n",
    "        \n",
    "# add a new column to the data set for the overlap proportions\n",
    "jeopardy['question_overlap'] = question_overlap\n",
    "        \n",
    "# calculate mean of the proportions where there is question overlap\n",
    "jeopardy['question_overlap'].mean()"
   ]
  },
  {
   "cell_type": "markdown",
   "metadata": {
    "collapsed": true
   },
   "source": [
    "The mean of 0.69 printed above indicates that on average, approximately 69% of words that are greater than 6 characters long matched with historical words being used. This means there could be an advantage studying historical material in order to prepare for Jeopardy."
   ]
  },
  {
   "cell_type": "markdown",
   "metadata": {},
   "source": [
    "## Correlation of historical terms to high/low value questions\n",
    "\n",
    "The analysis below will compute the chi-square values for the correlation of historical words vs. high or low value questions. This should provide a sense of what types of questions could be asked in each category."
   ]
  },
  {
   "cell_type": "code",
   "execution_count": 22,
   "metadata": {
    "collapsed": true
   },
   "outputs": [],
   "source": [
    "# define a function that differentiates high and low value questions \n",
    "def assign_value_category(row):\n",
    "    value = 0\n",
    "    if row['clean_value'] > 800:\n",
    "        value = 1\n",
    "    return value\n",
    "\n",
    "# assign value category to the clean_value column in the data set\n",
    "jeopardy['high_value'] = jeopardy.apply(assign_value_category, axis=1)"
   ]
  },
  {
   "cell_type": "code",
   "execution_count": 23,
   "metadata": {
    "collapsed": false
   },
   "outputs": [
    {
     "data": {
      "text/plain": [
       "0    14265\n",
       "1     5734\n",
       "Name: high_value, dtype: int64"
      ]
     },
     "execution_count": 23,
     "metadata": {},
     "output_type": "execute_result"
    }
   ],
   "source": [
    "# verify the output of the high_value column\n",
    "jeopardy['high_value'].value_counts()"
   ]
  },
  {
   "cell_type": "code",
   "execution_count": 28,
   "metadata": {
    "collapsed": false
   },
   "outputs": [],
   "source": [
    "# create a function that determines whether a word is found in a high or low value historical question\n",
    "def count_high_low(word):\n",
    "    low_count = 0\n",
    "    high_count = 0\n",
    "    \n",
    "    for i, row in jeopardy.iterrows():\n",
    "        split_q = row['clean_question'].split(' ')\n",
    "        if word in split_q:\n",
    "            if row['high_value'] == 1:\n",
    "                high_count += 1\n",
    "            else:\n",
    "                low_count += 1\n",
    "    \n",
    "    return high_count, low_count\n",
    "\n",
    "observed_expected = []\n",
    "\n",
    "#convert set to a list, and only look at the first 5 words for terms_used (for simplicty)\n",
    "comparison_terms = list(terms_used)[:5]\n",
    "\n",
    "# find the count of high value terms used and low value terms used\n",
    "for term in comparison_terms: \n",
    "    observed_expected.append(count_high_low(term))"
   ]
  },
  {
   "cell_type": "code",
   "execution_count": 29,
   "metadata": {
    "collapsed": false
   },
   "outputs": [
    {
     "data": {
      "text/plain": [
       "[(2, 3), (1, 0), (2, 7), (1, 0), (0, 4)]"
      ]
     },
     "execution_count": 29,
     "metadata": {},
     "output_type": "execute_result"
    }
   ],
   "source": [
    "# verify the output of observed and expected counts\n",
    "observed_expected"
   ]
  },
  {
   "cell_type": "code",
   "execution_count": 32,
   "metadata": {
    "collapsed": false
   },
   "outputs": [],
   "source": [
    "from scipy.stats import chisquare\n",
    "import numpy as np\n",
    "\n",
    "# perform the chi-squared test and determine the p-value (statistical significance)\n",
    "high_value_count = jeopardy[jeopardy['high_value'] == 1].shape[0]\n",
    "low_value_count = jeopardy[jeopardy['high_value'] == 0].shape[0]\n",
    "\n",
    "chi_squared = []\n",
    "\n",
    "for obs in observed_expected:\n",
    "    total = sum(obs)\n",
    "    total_prop = total / jeopardy.shape[0]\n",
    "    expected_high = total_prop * high_value_count\n",
    "    expected_low = total_prop * low_value_count\n",
    "    \n",
    "    # define observed and expected data sets\n",
    "    observed = np.array([obs[0], obs[1]])\n",
    "    expected = np.array([expected_high, expected_low])\n",
    "    \n",
    "    # perform chi-square test\n",
    "    chi_sq_p_val = chisquare(observed, expected)\n",
    "    chi_squared.append(chi_sq_p_val)"
   ]
  },
  {
   "cell_type": "code",
   "execution_count": 33,
   "metadata": {
    "collapsed": false
   },
   "outputs": [
    {
     "data": {
      "text/plain": [
       "[Power_divergenceResult(statistic=0.3137668167849311, pvalue=0.5753778622944691),\n",
       " Power_divergenceResult(statistic=2.487792117195675, pvalue=0.11473257634454047),\n",
       " Power_divergenceResult(statistic=0.18303865877777942, pvalue=0.6687747661279759),\n",
       " Power_divergenceResult(statistic=2.487792117195675, pvalue=0.11473257634454047),\n",
       " Power_divergenceResult(statistic=1.607851384507536, pvalue=0.20479409439225948)]"
      ]
     },
     "execution_count": 33,
     "metadata": {},
     "output_type": "execute_result"
    }
   ],
   "source": [
    "# verify the output\n",
    "chi_squared"
   ]
  },
  {
   "cell_type": "markdown",
   "metadata": {},
   "source": [
    "# Conclusion\n",
    "\n",
    "As shown in the p-values above, there is no statistical significance of the relationship or expected/observed discrepancy between high value words and low value words, and their historical use."
   ]
  }
 ],
 "metadata": {
  "kernelspec": {
   "display_name": "Python 3",
   "language": "python",
   "name": "python3"
  },
  "language_info": {
   "codemirror_mode": {
    "name": "ipython",
    "version": 3
   },
   "file_extension": ".py",
   "mimetype": "text/x-python",
   "name": "python",
   "nbconvert_exporter": "python",
   "pygments_lexer": "ipython3",
   "version": "3.4.3"
  }
 },
 "nbformat": 4,
 "nbformat_minor": 0
}
