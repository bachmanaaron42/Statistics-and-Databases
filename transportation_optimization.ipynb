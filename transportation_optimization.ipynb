{
 "cells": [
  {
   "cell_type": "markdown",
   "metadata": {
    "id": "vHIFxYwEmoJz"
   },
   "source": [
    "# Transportation Optimization\n",
    "\n",
    "This analysis uses linear optimization to find an optimal delivery route for a delivery company.\n",
    "\n",
    "Description:\n",
    "\n",
    "A delivery company that owns six vehicles ($V_0,\\dots,V_5$) is providing a delivery service to 16 locations. In total, the vehicles travel 17 locations ($L_0,\\dots,L_{16}$) including the headquarter ($L_0$). \n",
    "\n",
    "![](https://drive.google.com/uc?id=1CjVp2nwKAjqy0nsJ9Kj57_Uju5ZmPfQl)\n",
    "\n",
    "The company wants to make a vehicle routing plan to reduce the transportation cost where the total transportation cost is proportional to the total travel distances. The travel times (in minutes) between any two locations are given in the following table. \n",
    "\n",
    "| <i></i> |L0 |  L1|  L2|  L3|  L4|  L5|  L6|  L7|  L8|  L9| L10| L11| L12| L13| L14| L15| L16|\n",
    "| --- | --- | --- | --- | --- | --- | --- | --- | --- | --- | --- | --- | --- | --- | --- | --- | --- | --- |\n",
    "|**L0**        |0 | 36| 48| 17| 57| 41| 47| 51| 31| 24| 46| 68| 44| 32| 48| 37| 20|\n",
    "|**L1**        |36|  0| 51| 30| 25| 20| 35| 47|  5| 13| 19| 42| 11| 27| 43| 41| 37|\n",
    "|**L2**        |48| 51|  0| 32| 47| 32| 21|  9| 49| 51| 39| 45| 62| 23| 10| 11| 28|\n",
    "|**L3**        |17| 30| 32|  0| 43| 25| 30| 34| 26| 22| 32| 52| 40| 15| 30| 21| 7 |\n",
    "|**L4**        |57| 25| 47| 43|  0| 18| 26| 39| 30| 38| 10| 17| 31| 31| 37| 42| 48|\n",
    "|**L5**        |41| 20| 32| 25| 18|  0| 14| 27| 22| 27|  8| 27| 31| 13| 24| 25| 30|\n",
    "|**L6**        |47| 35| 21| 30| 26| 14|  0| 14| 35| 40| 19| 25| 45| 14| 11| 18| 31|\n",
    "|**L7**        |51| 47|  9| 34| 39| 27| 14|  0| 47| 50| 33| 36| 58| 22|  4| 14| 32|\n",
    "|**L8**        |31|  5| 49| 26| 30| 22| 35| 47|  0|  8| 22| 45| 14| 26| 43| 39| 33|\n",
    "|**L9**        |24| 13| 51| 22| 38| 27| 40| 50|  8|  0| 29| 53| 20| 27| 46| 40| 29|\n",
    "|**L10**       |46| 19| 39| 32| 10|  8| 19| 33| 22| 29|  0| 23| 27| 21| 30| 33| 37|\n",
    "|**L11**       |68| 42| 45| 52| 17| 27| 25| 36| 45| 53| 23|  0| 48| 37| 35| 44| 55|\n",
    "|**L12**       |44| 11| 62| 40| 31| 31| 45| 58| 14| 20| 27| 48|  0| 38| 54| 53| 47|\n",
    "|**L13**       |32| 27| 23| 15| 31| 13| 14| 22| 26| 27| 21| 37| 38|  0| 18| 14| 17|\n",
    "|**L14**       |48| 43| 10| 30| 37| 24| 11| 4|  43| 46| 30| 35| 54| 18|  0| 12| 29|\n",
    "|**L15**       |37| 41| 11| 21| 42| 25| 18| 14| 39| 40| 33| 44| 53| 14| 12|  0| 17|\n",
    "|**L16**       |20| 37| 28|  7| 48| 30| 31| 32| 33| 29| 37| 55| 47| 17| 29| 17|  0|"
   ]
  },
  {
   "cell_type": "markdown",
   "metadata": {
    "id": "NNW_OO3zh3fa"
   },
   "source": [
    "The objective to find an optimal routing schedule that minimizes the total travel time subject to the following constraints. *The returning trips to the headquarter are not considered as parts of routes.*\n",
    "\n",
    "**Constraint 1:** Each vehicle can travel no more than 100 minutes. *The returning time from the last location to the headquarter is not counted toward the 100 minutes.*\n",
    "\n",
    "**Constraint 2:** Each location except for the headquarter must be visited by exactly one vehicle.\n",
    "\n",
    "**Constraint 3:** All the used vehicles must depart from the headquarter. \n",
    "\n",
    "Without loss of generality, we assume that the vehicle $i$ visits more or equal locations than vehicle $j$ for all $i\\le j$."
   ]
  },
  {
   "cell_type": "code",
   "execution_count": 1,
   "metadata": {
    "colab": {
     "base_uri": "https://localhost:8080/"
    },
    "id": "8xG4JzVtNqtP",
    "outputId": "54d8e357-71cc-4f94-c073-57ea1947d99d"
   },
   "outputs": [
    {
     "name": "stdout",
     "output_type": "stream",
     "text": [
      "Requirement already satisfied: gurobipy in /usr/local/lib/python3.7/dist-packages (9.1.2)\n"
     ]
    }
   ],
   "source": [
    "# Pip-install the gurobipy package\n",
    "%pip install gurobipy"
   ]
  },
  {
   "cell_type": "code",
   "execution_count": 2,
   "metadata": {
    "id": "anpJtnPmi4jk"
   },
   "outputs": [],
   "source": [
    "import numpy as np\n",
    "\n",
    "# Define n, K, and c\n",
    "# number of available vehicles\n",
    "K = 6\n",
    "\n",
    "# number of travelling locations\n",
    "n = 17\n",
    "\n",
    "# maximum allowed travel time per vehicle (in minutes)\n",
    "T = 100\n",
    "\n",
    "# travel time between all locations\n",
    "c = np.array(\n",
    "[[0,  36, 48, 17, 57, 41, 47, 51, 31, 24, 46, 68, 44, 32, 48, 37, 20],\n",
    " [36, 0,  51, 30, 25, 20, 35, 47, 5,  13, 19, 42, 11, 27, 43, 41, 37],\n",
    " [48, 51, 0,  32, 47, 32, 21, 9,  49, 51, 39, 45, 62, 23, 10, 11, 28],\n",
    " [17, 30, 32, 0,  43, 25, 30, 34, 26, 22, 32, 52, 40, 15, 30, 21, 7 ],\n",
    " [57, 25, 47, 43, 0,  18, 26, 39, 30, 38, 10, 17, 31, 31, 37, 42, 48],\n",
    " [41, 20, 32, 25, 18, 0,  14, 27, 22, 27, 8,  27, 31, 13, 24, 25, 30],\n",
    " [47, 35, 21, 30, 26, 14, 0,  14, 35, 40, 19, 25, 45, 14, 11, 18, 31],\n",
    " [51, 47, 9,  34, 39, 27, 14, 0,  47, 50, 33, 36, 58, 22, 4,  14, 32],\n",
    " [31, 5,  49, 26, 30, 22, 35, 47, 0,  8,  22, 45, 14, 26, 43, 39, 33],\n",
    " [24, 13, 51, 22, 38, 27, 40, 50, 8,  0,  29, 53, 20, 27, 46, 40, 29],\n",
    " [46, 19, 39, 32, 10, 8,  19, 33, 22, 29, 0,  23, 27, 21, 30, 33, 37],\n",
    " [68, 42, 45, 52, 17, 27, 25, 36, 45, 53, 23, 0,  48, 37, 35, 44, 55],\n",
    " [44, 11, 62, 40, 31, 31, 45, 58, 14, 20, 27, 48, 0,  38, 54, 53, 47],\n",
    " [32, 27, 23, 15, 31, 13, 14, 22, 26, 27, 21, 37, 38, 0,  18, 14, 17],\n",
    " [48, 43, 10, 30, 37, 24, 11, 4,  43, 46, 30, 35, 54, 18, 0,  12, 29],\n",
    " [37, 41, 11, 21, 42, 25, 18, 14, 39, 40, 33, 44, 53, 14, 12, 0,  17],\n",
    " [20, 37, 28, 7,  48, 30, 31, 32, 33, 29, 37, 55, 47, 17, 29, 17, 0]]\n",
    " )"
   ]
  },
  {
   "cell_type": "markdown",
   "metadata": {
    "id": "DgqKVkV4iD5X"
   },
   "source": [
    "## Initial Analysis\n",
    "\n",
    "The first step is to understand the route time for some example routes, as well as understand which sample routes are feasible or not feasible, based on the constraints"
   ]
  },
  {
   "cell_type": "code",
   "execution_count": 3,
   "metadata": {
    "id": "JI0p_s1ikmn_"
   },
   "outputs": [],
   "source": [
    "# define a function to calculate route time\n",
    "def route_time(route):\n",
    "  indexer = 0\n",
    "\n",
    "  travel_times = []\n",
    "\n",
    "  # iterate through locations except the last one\n",
    "  for loc in route[:-1]:\n",
    "    start_loc = route[indexer]\n",
    "    end_loc = route[indexer + 1]\n",
    "\n",
    "    # exclude travel time back to headquarters\n",
    "    if(end_loc) == 0:\n",
    "      pass\n",
    "    else:\n",
    "      # get travel times from table\n",
    "      time = c[start_loc][end_loc]\n",
    "      travel_times.append(time)\n",
    "\n",
    "    indexer += 1\n",
    "\n",
    "  return sum(travel_times)"
   ]
  },
  {
   "cell_type": "code",
   "execution_count": 4,
   "metadata": {
    "colab": {
     "base_uri": "https://localhost:8080/"
    },
    "id": "nz0gNnB5mS-I",
    "outputId": "52a0d15f-9fbd-476f-c9a1-2b765dc13840"
   },
   "outputs": [
    {
     "name": "stdout",
     "output_type": "stream",
     "text": [
      "161\n"
     ]
    }
   ],
   "source": [
    "# print a sample route\n",
    "print(route_time([0, 6, 2, 4, 9, 8]))"
   ]
  },
  {
   "cell_type": "markdown",
   "metadata": {
    "id": "0_wxFJC-mgag"
   },
   "source": [
    "## Route Samples\n",
    "\n",
    "The analysis below determines whether some sample routes are feasible, and what the routing time is for the sample route."
   ]
  },
  {
   "cell_type": "code",
   "execution_count": 5,
   "metadata": {
    "colab": {
     "base_uri": "https://localhost:8080/"
    },
    "id": "aCdKIbOatHqL",
    "outputId": "a817e898-4cd2-4dba-be90-e6994a07cffb"
   },
   "outputs": [
    {
     "name": "stdout",
     "output_type": "stream",
     "text": [
      "Route 1 travel time: 448\n"
     ]
    }
   ],
   "source": [
    "# Route 1 visits all locations in chronological order\n",
    "print('Route 1 travel time:', route_time([i for i in range(17)]))\n",
    "\n",
    "# route 1 is not feasible since vehicle 0 travels for more than 100 minutes"
   ]
  },
  {
   "cell_type": "code",
   "execution_count": 6,
   "metadata": {
    "colab": {
     "base_uri": "https://localhost:8080/"
    },
    "id": "KhOd-TavtGcb",
    "outputId": "57f22b07-ac64-4274-b045-cac2bc6f2e9f"
   },
   "outputs": [
    {
     "name": "stdout",
     "output_type": "stream",
     "text": [
      "V0 first route time 36\n",
      "V0 second route time 93\n",
      "V1 route time 158\n",
      "V2 route time 85\n"
     ]
    }
   ],
   "source": [
    "# Route 2 uses Vehicle 0 on 2 routes, and two other vehicles (V1 and V2)\n",
    "print('V0 first route time', route_time([0, 1]))\n",
    "print('V0 second route time', route_time([2, 3, 4, 5]))\n",
    "print('V1 route time', route_time([0,7,8,9,10,11]))\n",
    "print('V2 route time', route_time([12,13,14,15,16]))\n",
    "\n",
    "# Route 2 is infeasible because\n",
    "# (1) V2 does not depart from the headquarters\n",
    "# (2) V1 route time is more than 100 minutes\n",
    "# (3) Location #6 is not visited in the routing"
   ]
  },
  {
   "cell_type": "code",
   "execution_count": 7,
   "metadata": {
    "colab": {
     "base_uri": "https://localhost:8080/"
    },
    "id": "YqOnVtWIt_0a",
    "outputId": "4d0c34b9-81df-4251-d36f-4fe7cb4e2923"
   },
   "outputs": [
    {
     "name": "stdout",
     "output_type": "stream",
     "text": [
      "V0 route time 180\n",
      "V1 route time 158\n",
      "V2 route time 129\n"
     ]
    }
   ],
   "source": [
    "# Route 3 uses 3 vehicles (V0, V1, and V2)\n",
    "print('V0 route time', route_time([0,1,2,3,4,5]))\n",
    "print('V1 route time', route_time([0,7,8,9,10,11]))\n",
    "print('V2 route time', route_time([0,12,13,14,15,16]))\n",
    "\n",
    "# this routing is infeasible because all 3 vehicles used travel for more than 100 minutes"
   ]
  },
  {
   "cell_type": "code",
   "execution_count": 8,
   "metadata": {
    "colab": {
     "base_uri": "https://localhost:8080/"
    },
    "id": "YfdUZjs-uG2b",
    "outputId": "cba1c6a2-8185-4543-b397-010950901ab3"
   },
   "outputs": [
    {
     "name": "stdout",
     "output_type": "stream",
     "text": [
      "V0 route time:  87\n",
      "V1 route time:  96\n",
      "V2 route time:  92\n",
      "V3 route time:  77\n",
      "V4 route time:  70\n",
      "V5 route time:  61\n"
     ]
    }
   ],
   "source": [
    "# Route 4 uses all 6 vehicles\n",
    "print('V0 route time: ', route_time([0,1,2]))\n",
    "print('V1 route time: ', route_time([0,3,2,4]))\n",
    "print('V2 route time: ', route_time([0,7,5,6]))\n",
    "print('V3 route time: ', route_time([0,9,8,10,11]))\n",
    "print('V4 route time: ', route_time([0,13,12]))\n",
    "print('V5 route time: ', route_time([0,16,14,15]))\n",
    "\n",
    "# Routing 4 is infeasible because: \n",
    "#   location 2 is visited by more than 1 vehicle"
   ]
  },
  {
   "cell_type": "code",
   "execution_count": 9,
   "metadata": {
    "colab": {
     "base_uri": "https://localhost:8080/"
    },
    "id": "5a5byBzauGa9",
    "outputId": "80592cd1-35fc-4a8e-8ac7-1b5fe96850d2"
   },
   "outputs": [
    {
     "name": "stdout",
     "output_type": "stream",
     "text": [
      "V0 route time:  87\n",
      "V1 route time:  60\n",
      "V2 route time:  92\n",
      "V3 route time:  77\n",
      "V4 route time:  70\n",
      "V5 route time:  61\n",
      "\n",
      "Total routing time:  447\n"
     ]
    }
   ],
   "source": [
    "# Route 5 uses also uses all 6 vehicles\n",
    "v0 = route_time([0,1,2])\n",
    "v1 = route_time([0,3,4])\n",
    "v2 = route_time([0,7,5,6])\n",
    "v3 = route_time([0,9,8,10,11])\n",
    "v4 = route_time([0,13,12])\n",
    "v5 = route_time([0,16,14,15])\n",
    "\n",
    "print('V0 route time: ', v0)\n",
    "print('V1 route time: ', v1)\n",
    "print('V2 route time: ', v2)\n",
    "print('V3 route time: ', v3)\n",
    "print('V4 route time: ', v4)\n",
    "print('V5 route time: ', v5)\n",
    "\n",
    "print('\\nTotal routing time: ', v0 + v1 + v2 + v3 + v4 + v5)\n",
    "\n",
    "# Routing 5 is feasible because:\n",
    "#     all vehicles depart from location 0\n",
    "#     all locations are visited only once\n",
    "#     all vehicles travel for less than 100 minutes total"
   ]
  },
  {
   "cell_type": "code",
   "execution_count": 10,
   "metadata": {
    "colab": {
     "base_uri": "https://localhost:8080/"
    },
    "id": "b1UKHw4yDtbV",
    "outputId": "593df1f4-2ef2-4fde-af6d-3acf1a421775"
   },
   "outputs": [
    {
     "name": "stdout",
     "output_type": "stream",
     "text": [
      "V0 route time:  87\n",
      "V1 route time:  60\n",
      "V2 route time:  69\n",
      "V3 route time:  77\n",
      "V4 route time:  70\n",
      "V5 route time:  61\n",
      "\n",
      "Total routing time:  424\n"
     ]
    }
   ],
   "source": [
    "# create a sample feasible routing plan, that is more optimized than Route 5\n",
    "vehicle_0 = route_time([0,1,2])\n",
    "vehicle_1 = route_time([0,3,4])\n",
    "vehicle_2 = route_time([0,5,6,7])\n",
    "vehicle_3 = route_time([0,9,8,10,11])\n",
    "vehicle_4 = route_time([0,13,12])\n",
    "vehicle_5 = route_time([0,16,14,15])\n",
    "\n",
    "print('V0 route time: ', vehicle_0)\n",
    "print('V1 route time: ', vehicle_1)\n",
    "print('V2 route time: ', vehicle_2)\n",
    "print('V3 route time: ', vehicle_3)\n",
    "print('V4 route time: ', vehicle_4)\n",
    "print('V5 route time: ', vehicle_5)\n",
    "\n",
    "print('\\nTotal routing time: ', vehicle_0 + vehicle_1 + vehicle_2 + vehicle_3 + vehicle_4 + vehicle_5)"
   ]
  },
  {
   "cell_type": "markdown",
   "metadata": {
    "id": "mEVR67Z1m10u"
   },
   "source": [
    "## Optimization Setup\n",
    "\n",
    "The Gurobipy package will be used to create an optimization model. The model, objective function, and constraints are established using the Gurobipy package."
   ]
  },
  {
   "cell_type": "code",
   "execution_count": 11,
   "metadata": {
    "colab": {
     "base_uri": "https://localhost:8080/"
    },
    "id": "BCNKd0nHJpGW",
    "outputId": "54db17f9-2779-40a1-dd71-536113301149"
   },
   "outputs": [
    {
     "name": "stdout",
     "output_type": "stream",
     "text": [
      "Restricted license - for non-production use only - expires 2022-01-13\n"
     ]
    }
   ],
   "source": [
    "import gurobipy as gp\n",
    "from gurobipy import GRB\n",
    "\n",
    "# initiate model\n",
    "m = gp.Model('Delivery Routing')"
   ]
  },
  {
   "cell_type": "markdown",
   "metadata": {
    "id": "9XBmcWH8S8Qr"
   },
   "source": [
    "Next, we define the following three types of binary decision variables to formulate this problem. \n",
    "\n",
    "$$\n",
    "\\begin{array}{rl}\n",
    "x_{ijk}& =\\left\\{\\begin{array}{rl}1 & \\text{if $V_k$ travels from $L_i$ to $L_j$}\\\\0&\\text{otherwise}\\end{array}\\right.\\\\\n",
    "y_{jk}& =\\left\\{\\begin{array}{rl}1 & \\text{if $V_k$ visits $L_j$}\\\\0&\\text{otherwise}\\end{array}\\right.\\\\\n",
    "z_{k}&=\\left\\{\\begin{array}{rl}1 & \\text{if $V_k$ is operating}\\\\0&\\text{otherwise}\\end{array}\\right.\\\\\n",
    "\\end{array}\n",
    "$$"
   ]
  },
  {
   "cell_type": "code",
   "execution_count": 12,
   "metadata": {
    "id": "AKPc4jvZNZLq"
   },
   "outputs": [],
   "source": [
    "# add decision variables\n",
    "\n",
    "# binary variables for if a vehicle traveled from a departure to a destination\n",
    "x = m.addVars(n, n, K, vtype=GRB.BINARY, name=\"x\")\n",
    "\n",
    "# binary variables for if a vehicle visited a location\n",
    "y = m.addVars(n, K, vtype=GRB.BINARY, name=\"y\")\n",
    "\n",
    "# binary variable for if a vehicle is operating\n",
    "z = m.addVars(K, vtype=GRB.BINARY, name=\"z\")"
   ]
  },
  {
   "cell_type": "code",
   "execution_count": 13,
   "metadata": {
    "id": "XeHf5DxEPQFZ"
   },
   "outputs": [],
   "source": [
    "# set objective function\n",
    "m.setObjective(gp.quicksum(c[i,j]*x[i,j,k] \n",
    "                           for i in range(n)\n",
    "                           for j in range(1, n)\n",
    "                           for k in range(K)\n",
    "                           ), \n",
    "               GRB.MINIMIZE\n",
    "               )"
   ]
  },
  {
   "cell_type": "code",
   "execution_count": 14,
   "metadata": {
    "colab": {
     "base_uri": "https://localhost:8080/"
    },
    "id": "g7wOxSVYZG7x",
    "outputId": "f391118b-259d-481b-ad17-84b99a013149"
   },
   "outputs": [
    {
     "data": {
      "text/plain": [
       "{(0, 1): <gurobi.Constr *Awaiting Model Update*>,\n",
       " (0, 2): <gurobi.Constr *Awaiting Model Update*>,\n",
       " (0, 3): <gurobi.Constr *Awaiting Model Update*>,\n",
       " (0, 4): <gurobi.Constr *Awaiting Model Update*>,\n",
       " (0, 5): <gurobi.Constr *Awaiting Model Update*>,\n",
       " (0, 6): <gurobi.Constr *Awaiting Model Update*>,\n",
       " (0, 7): <gurobi.Constr *Awaiting Model Update*>,\n",
       " (0, 8): <gurobi.Constr *Awaiting Model Update*>,\n",
       " (0, 9): <gurobi.Constr *Awaiting Model Update*>,\n",
       " (0, 10): <gurobi.Constr *Awaiting Model Update*>,\n",
       " (0, 11): <gurobi.Constr *Awaiting Model Update*>,\n",
       " (0, 12): <gurobi.Constr *Awaiting Model Update*>,\n",
       " (0, 13): <gurobi.Constr *Awaiting Model Update*>,\n",
       " (0, 14): <gurobi.Constr *Awaiting Model Update*>,\n",
       " (0, 15): <gurobi.Constr *Awaiting Model Update*>,\n",
       " (0, 16): <gurobi.Constr *Awaiting Model Update*>,\n",
       " (1, 1): <gurobi.Constr *Awaiting Model Update*>,\n",
       " (1, 2): <gurobi.Constr *Awaiting Model Update*>,\n",
       " (1, 3): <gurobi.Constr *Awaiting Model Update*>,\n",
       " (1, 4): <gurobi.Constr *Awaiting Model Update*>,\n",
       " (1, 5): <gurobi.Constr *Awaiting Model Update*>,\n",
       " (1, 6): <gurobi.Constr *Awaiting Model Update*>,\n",
       " (1, 7): <gurobi.Constr *Awaiting Model Update*>,\n",
       " (1, 8): <gurobi.Constr *Awaiting Model Update*>,\n",
       " (1, 9): <gurobi.Constr *Awaiting Model Update*>,\n",
       " (1, 10): <gurobi.Constr *Awaiting Model Update*>,\n",
       " (1, 11): <gurobi.Constr *Awaiting Model Update*>,\n",
       " (1, 12): <gurobi.Constr *Awaiting Model Update*>,\n",
       " (1, 13): <gurobi.Constr *Awaiting Model Update*>,\n",
       " (1, 14): <gurobi.Constr *Awaiting Model Update*>,\n",
       " (1, 15): <gurobi.Constr *Awaiting Model Update*>,\n",
       " (1, 16): <gurobi.Constr *Awaiting Model Update*>,\n",
       " (2, 1): <gurobi.Constr *Awaiting Model Update*>,\n",
       " (2, 2): <gurobi.Constr *Awaiting Model Update*>,\n",
       " (2, 3): <gurobi.Constr *Awaiting Model Update*>,\n",
       " (2, 4): <gurobi.Constr *Awaiting Model Update*>,\n",
       " (2, 5): <gurobi.Constr *Awaiting Model Update*>,\n",
       " (2, 6): <gurobi.Constr *Awaiting Model Update*>,\n",
       " (2, 7): <gurobi.Constr *Awaiting Model Update*>,\n",
       " (2, 8): <gurobi.Constr *Awaiting Model Update*>,\n",
       " (2, 9): <gurobi.Constr *Awaiting Model Update*>,\n",
       " (2, 10): <gurobi.Constr *Awaiting Model Update*>,\n",
       " (2, 11): <gurobi.Constr *Awaiting Model Update*>,\n",
       " (2, 12): <gurobi.Constr *Awaiting Model Update*>,\n",
       " (2, 13): <gurobi.Constr *Awaiting Model Update*>,\n",
       " (2, 14): <gurobi.Constr *Awaiting Model Update*>,\n",
       " (2, 15): <gurobi.Constr *Awaiting Model Update*>,\n",
       " (2, 16): <gurobi.Constr *Awaiting Model Update*>,\n",
       " (3, 1): <gurobi.Constr *Awaiting Model Update*>,\n",
       " (3, 2): <gurobi.Constr *Awaiting Model Update*>,\n",
       " (3, 3): <gurobi.Constr *Awaiting Model Update*>,\n",
       " (3, 4): <gurobi.Constr *Awaiting Model Update*>,\n",
       " (3, 5): <gurobi.Constr *Awaiting Model Update*>,\n",
       " (3, 6): <gurobi.Constr *Awaiting Model Update*>,\n",
       " (3, 7): <gurobi.Constr *Awaiting Model Update*>,\n",
       " (3, 8): <gurobi.Constr *Awaiting Model Update*>,\n",
       " (3, 9): <gurobi.Constr *Awaiting Model Update*>,\n",
       " (3, 10): <gurobi.Constr *Awaiting Model Update*>,\n",
       " (3, 11): <gurobi.Constr *Awaiting Model Update*>,\n",
       " (3, 12): <gurobi.Constr *Awaiting Model Update*>,\n",
       " (3, 13): <gurobi.Constr *Awaiting Model Update*>,\n",
       " (3, 14): <gurobi.Constr *Awaiting Model Update*>,\n",
       " (3, 15): <gurobi.Constr *Awaiting Model Update*>,\n",
       " (3, 16): <gurobi.Constr *Awaiting Model Update*>,\n",
       " (4, 1): <gurobi.Constr *Awaiting Model Update*>,\n",
       " (4, 2): <gurobi.Constr *Awaiting Model Update*>,\n",
       " (4, 3): <gurobi.Constr *Awaiting Model Update*>,\n",
       " (4, 4): <gurobi.Constr *Awaiting Model Update*>,\n",
       " (4, 5): <gurobi.Constr *Awaiting Model Update*>,\n",
       " (4, 6): <gurobi.Constr *Awaiting Model Update*>,\n",
       " (4, 7): <gurobi.Constr *Awaiting Model Update*>,\n",
       " (4, 8): <gurobi.Constr *Awaiting Model Update*>,\n",
       " (4, 9): <gurobi.Constr *Awaiting Model Update*>,\n",
       " (4, 10): <gurobi.Constr *Awaiting Model Update*>,\n",
       " (4, 11): <gurobi.Constr *Awaiting Model Update*>,\n",
       " (4, 12): <gurobi.Constr *Awaiting Model Update*>,\n",
       " (4, 13): <gurobi.Constr *Awaiting Model Update*>,\n",
       " (4, 14): <gurobi.Constr *Awaiting Model Update*>,\n",
       " (4, 15): <gurobi.Constr *Awaiting Model Update*>,\n",
       " (4, 16): <gurobi.Constr *Awaiting Model Update*>,\n",
       " (5, 1): <gurobi.Constr *Awaiting Model Update*>,\n",
       " (5, 2): <gurobi.Constr *Awaiting Model Update*>,\n",
       " (5, 3): <gurobi.Constr *Awaiting Model Update*>,\n",
       " (5, 4): <gurobi.Constr *Awaiting Model Update*>,\n",
       " (5, 5): <gurobi.Constr *Awaiting Model Update*>,\n",
       " (5, 6): <gurobi.Constr *Awaiting Model Update*>,\n",
       " (5, 7): <gurobi.Constr *Awaiting Model Update*>,\n",
       " (5, 8): <gurobi.Constr *Awaiting Model Update*>,\n",
       " (5, 9): <gurobi.Constr *Awaiting Model Update*>,\n",
       " (5, 10): <gurobi.Constr *Awaiting Model Update*>,\n",
       " (5, 11): <gurobi.Constr *Awaiting Model Update*>,\n",
       " (5, 12): <gurobi.Constr *Awaiting Model Update*>,\n",
       " (5, 13): <gurobi.Constr *Awaiting Model Update*>,\n",
       " (5, 14): <gurobi.Constr *Awaiting Model Update*>,\n",
       " (5, 15): <gurobi.Constr *Awaiting Model Update*>,\n",
       " (5, 16): <gurobi.Constr *Awaiting Model Update*>}"
      ]
     },
     "execution_count": 14,
     "metadata": {
      "tags": []
     },
     "output_type": "execute_result"
    }
   ],
   "source": [
    "# add constraint for if a vehicle has visited a location, that vehicle is active\n",
    "m.addConstrs(y[i, k] <= z[k]\n",
    "             for k in range(K)\n",
    "             for i in range(1, n)\n",
    "             )"
   ]
  },
  {
   "cell_type": "code",
   "execution_count": 15,
   "metadata": {
    "colab": {
     "base_uri": "https://localhost:8080/"
    },
    "id": "_UPHWnkT9WvN",
    "outputId": "9c739817-c3d2-4355-a099-c245b91c8332"
   },
   "outputs": [
    {
     "data": {
      "text/plain": [
       "{0: <gurobi.Constr *Awaiting Model Update*>,\n",
       " 1: <gurobi.Constr *Awaiting Model Update*>,\n",
       " 2: <gurobi.Constr *Awaiting Model Update*>,\n",
       " 3: <gurobi.Constr *Awaiting Model Update*>,\n",
       " 4: <gurobi.Constr *Awaiting Model Update*>,\n",
       " 5: <gurobi.Constr *Awaiting Model Update*>}"
      ]
     },
     "execution_count": 15,
     "metadata": {
      "tags": []
     },
     "output_type": "execute_result"
    }
   ],
   "source": [
    "# add constraint that if a vehicle is active, it must have visited some location\n",
    "m.addConstrs(y[0, k] >= z[k]\n",
    "             for k in range(K)\n",
    "             )"
   ]
  },
  {
   "cell_type": "code",
   "execution_count": 16,
   "metadata": {
    "colab": {
     "base_uri": "https://localhost:8080/"
    },
    "id": "45VLAyjbaATR",
    "outputId": "c3a16a29-c600-480a-986c-4409da51621e"
   },
   "outputs": [
    {
     "data": {
      "text/plain": [
       "{0: <gurobi.Constr *Awaiting Model Update*>,\n",
       " 1: <gurobi.Constr *Awaiting Model Update*>,\n",
       " 2: <gurobi.Constr *Awaiting Model Update*>,\n",
       " 3: <gurobi.Constr *Awaiting Model Update*>,\n",
       " 4: <gurobi.Constr *Awaiting Model Update*>,\n",
       " 5: <gurobi.Constr *Awaiting Model Update*>}"
      ]
     },
     "execution_count": 16,
     "metadata": {
      "tags": []
     },
     "output_type": "execute_result"
    }
   ],
   "source": [
    "# add constraint that no vehicle travels for more than 100 minutes\n",
    "m.addConstrs(\n",
    "    gp.quicksum(c[i, j] * x[i, j, k]\n",
    "                for i in range(n)\n",
    "                for j in range(1, n)\n",
    "                ) <= T\n",
    "             for k in range(K)\n",
    "             )"
   ]
  },
  {
   "cell_type": "code",
   "execution_count": 17,
   "metadata": {
    "colab": {
     "base_uri": "https://localhost:8080/"
    },
    "id": "YMMITZub7Vag",
    "outputId": "a9e39770-033c-4f35-de44-a09d371914f6"
   },
   "outputs": [
    {
     "data": {
      "text/plain": [
       "{1: <gurobi.Constr *Awaiting Model Update*>,\n",
       " 2: <gurobi.Constr *Awaiting Model Update*>,\n",
       " 3: <gurobi.Constr *Awaiting Model Update*>,\n",
       " 4: <gurobi.Constr *Awaiting Model Update*>,\n",
       " 5: <gurobi.Constr *Awaiting Model Update*>,\n",
       " 6: <gurobi.Constr *Awaiting Model Update*>,\n",
       " 7: <gurobi.Constr *Awaiting Model Update*>,\n",
       " 8: <gurobi.Constr *Awaiting Model Update*>,\n",
       " 9: <gurobi.Constr *Awaiting Model Update*>,\n",
       " 10: <gurobi.Constr *Awaiting Model Update*>,\n",
       " 11: <gurobi.Constr *Awaiting Model Update*>,\n",
       " 12: <gurobi.Constr *Awaiting Model Update*>,\n",
       " 13: <gurobi.Constr *Awaiting Model Update*>,\n",
       " 14: <gurobi.Constr *Awaiting Model Update*>,\n",
       " 15: <gurobi.Constr *Awaiting Model Update*>,\n",
       " 16: <gurobi.Constr *Awaiting Model Update*>}"
      ]
     },
     "execution_count": 17,
     "metadata": {
      "tags": []
     },
     "output_type": "execute_result"
    }
   ],
   "source": [
    "# add constraint that each location can only be visited by one vehicle\n",
    "m.addConstrs(y.sum(i, '*') == 1\n",
    "            for i in range(1, n))"
   ]
  },
  {
   "cell_type": "code",
   "execution_count": 18,
   "metadata": {
    "colab": {
     "base_uri": "https://localhost:8080/"
    },
    "id": "mMopT4FM9syt",
    "outputId": "3aea96ee-04b6-404b-8806-40ce0945842a"
   },
   "outputs": [
    {
     "data": {
      "text/plain": [
       "{(0, 0): <gurobi.Constr *Awaiting Model Update*>,\n",
       " (0, 1): <gurobi.Constr *Awaiting Model Update*>,\n",
       " (0, 2): <gurobi.Constr *Awaiting Model Update*>,\n",
       " (0, 3): <gurobi.Constr *Awaiting Model Update*>,\n",
       " (0, 4): <gurobi.Constr *Awaiting Model Update*>,\n",
       " (0, 5): <gurobi.Constr *Awaiting Model Update*>,\n",
       " (1, 0): <gurobi.Constr *Awaiting Model Update*>,\n",
       " (1, 1): <gurobi.Constr *Awaiting Model Update*>,\n",
       " (1, 2): <gurobi.Constr *Awaiting Model Update*>,\n",
       " (1, 3): <gurobi.Constr *Awaiting Model Update*>,\n",
       " (1, 4): <gurobi.Constr *Awaiting Model Update*>,\n",
       " (1, 5): <gurobi.Constr *Awaiting Model Update*>,\n",
       " (2, 0): <gurobi.Constr *Awaiting Model Update*>,\n",
       " (2, 1): <gurobi.Constr *Awaiting Model Update*>,\n",
       " (2, 2): <gurobi.Constr *Awaiting Model Update*>,\n",
       " (2, 3): <gurobi.Constr *Awaiting Model Update*>,\n",
       " (2, 4): <gurobi.Constr *Awaiting Model Update*>,\n",
       " (2, 5): <gurobi.Constr *Awaiting Model Update*>,\n",
       " (3, 0): <gurobi.Constr *Awaiting Model Update*>,\n",
       " (3, 1): <gurobi.Constr *Awaiting Model Update*>,\n",
       " (3, 2): <gurobi.Constr *Awaiting Model Update*>,\n",
       " (3, 3): <gurobi.Constr *Awaiting Model Update*>,\n",
       " (3, 4): <gurobi.Constr *Awaiting Model Update*>,\n",
       " (3, 5): <gurobi.Constr *Awaiting Model Update*>,\n",
       " (4, 0): <gurobi.Constr *Awaiting Model Update*>,\n",
       " (4, 1): <gurobi.Constr *Awaiting Model Update*>,\n",
       " (4, 2): <gurobi.Constr *Awaiting Model Update*>,\n",
       " (4, 3): <gurobi.Constr *Awaiting Model Update*>,\n",
       " (4, 4): <gurobi.Constr *Awaiting Model Update*>,\n",
       " (4, 5): <gurobi.Constr *Awaiting Model Update*>,\n",
       " (5, 0): <gurobi.Constr *Awaiting Model Update*>,\n",
       " (5, 1): <gurobi.Constr *Awaiting Model Update*>,\n",
       " (5, 2): <gurobi.Constr *Awaiting Model Update*>,\n",
       " (5, 3): <gurobi.Constr *Awaiting Model Update*>,\n",
       " (5, 4): <gurobi.Constr *Awaiting Model Update*>,\n",
       " (5, 5): <gurobi.Constr *Awaiting Model Update*>,\n",
       " (6, 0): <gurobi.Constr *Awaiting Model Update*>,\n",
       " (6, 1): <gurobi.Constr *Awaiting Model Update*>,\n",
       " (6, 2): <gurobi.Constr *Awaiting Model Update*>,\n",
       " (6, 3): <gurobi.Constr *Awaiting Model Update*>,\n",
       " (6, 4): <gurobi.Constr *Awaiting Model Update*>,\n",
       " (6, 5): <gurobi.Constr *Awaiting Model Update*>,\n",
       " (7, 0): <gurobi.Constr *Awaiting Model Update*>,\n",
       " (7, 1): <gurobi.Constr *Awaiting Model Update*>,\n",
       " (7, 2): <gurobi.Constr *Awaiting Model Update*>,\n",
       " (7, 3): <gurobi.Constr *Awaiting Model Update*>,\n",
       " (7, 4): <gurobi.Constr *Awaiting Model Update*>,\n",
       " (7, 5): <gurobi.Constr *Awaiting Model Update*>,\n",
       " (8, 0): <gurobi.Constr *Awaiting Model Update*>,\n",
       " (8, 1): <gurobi.Constr *Awaiting Model Update*>,\n",
       " (8, 2): <gurobi.Constr *Awaiting Model Update*>,\n",
       " (8, 3): <gurobi.Constr *Awaiting Model Update*>,\n",
       " (8, 4): <gurobi.Constr *Awaiting Model Update*>,\n",
       " (8, 5): <gurobi.Constr *Awaiting Model Update*>,\n",
       " (9, 0): <gurobi.Constr *Awaiting Model Update*>,\n",
       " (9, 1): <gurobi.Constr *Awaiting Model Update*>,\n",
       " (9, 2): <gurobi.Constr *Awaiting Model Update*>,\n",
       " (9, 3): <gurobi.Constr *Awaiting Model Update*>,\n",
       " (9, 4): <gurobi.Constr *Awaiting Model Update*>,\n",
       " (9, 5): <gurobi.Constr *Awaiting Model Update*>,\n",
       " (10, 0): <gurobi.Constr *Awaiting Model Update*>,\n",
       " (10, 1): <gurobi.Constr *Awaiting Model Update*>,\n",
       " (10, 2): <gurobi.Constr *Awaiting Model Update*>,\n",
       " (10, 3): <gurobi.Constr *Awaiting Model Update*>,\n",
       " (10, 4): <gurobi.Constr *Awaiting Model Update*>,\n",
       " (10, 5): <gurobi.Constr *Awaiting Model Update*>,\n",
       " (11, 0): <gurobi.Constr *Awaiting Model Update*>,\n",
       " (11, 1): <gurobi.Constr *Awaiting Model Update*>,\n",
       " (11, 2): <gurobi.Constr *Awaiting Model Update*>,\n",
       " (11, 3): <gurobi.Constr *Awaiting Model Update*>,\n",
       " (11, 4): <gurobi.Constr *Awaiting Model Update*>,\n",
       " (11, 5): <gurobi.Constr *Awaiting Model Update*>,\n",
       " (12, 0): <gurobi.Constr *Awaiting Model Update*>,\n",
       " (12, 1): <gurobi.Constr *Awaiting Model Update*>,\n",
       " (12, 2): <gurobi.Constr *Awaiting Model Update*>,\n",
       " (12, 3): <gurobi.Constr *Awaiting Model Update*>,\n",
       " (12, 4): <gurobi.Constr *Awaiting Model Update*>,\n",
       " (12, 5): <gurobi.Constr *Awaiting Model Update*>,\n",
       " (13, 0): <gurobi.Constr *Awaiting Model Update*>,\n",
       " (13, 1): <gurobi.Constr *Awaiting Model Update*>,\n",
       " (13, 2): <gurobi.Constr *Awaiting Model Update*>,\n",
       " (13, 3): <gurobi.Constr *Awaiting Model Update*>,\n",
       " (13, 4): <gurobi.Constr *Awaiting Model Update*>,\n",
       " (13, 5): <gurobi.Constr *Awaiting Model Update*>,\n",
       " (14, 0): <gurobi.Constr *Awaiting Model Update*>,\n",
       " (14, 1): <gurobi.Constr *Awaiting Model Update*>,\n",
       " (14, 2): <gurobi.Constr *Awaiting Model Update*>,\n",
       " (14, 3): <gurobi.Constr *Awaiting Model Update*>,\n",
       " (14, 4): <gurobi.Constr *Awaiting Model Update*>,\n",
       " (14, 5): <gurobi.Constr *Awaiting Model Update*>,\n",
       " (15, 0): <gurobi.Constr *Awaiting Model Update*>,\n",
       " (15, 1): <gurobi.Constr *Awaiting Model Update*>,\n",
       " (15, 2): <gurobi.Constr *Awaiting Model Update*>,\n",
       " (15, 3): <gurobi.Constr *Awaiting Model Update*>,\n",
       " (15, 4): <gurobi.Constr *Awaiting Model Update*>,\n",
       " (15, 5): <gurobi.Constr *Awaiting Model Update*>,\n",
       " (16, 0): <gurobi.Constr *Awaiting Model Update*>,\n",
       " (16, 1): <gurobi.Constr *Awaiting Model Update*>,\n",
       " (16, 2): <gurobi.Constr *Awaiting Model Update*>,\n",
       " (16, 3): <gurobi.Constr *Awaiting Model Update*>,\n",
       " (16, 4): <gurobi.Constr *Awaiting Model Update*>,\n",
       " (16, 5): <gurobi.Constr *Awaiting Model Update*>}"
      ]
     },
     "execution_count": 18,
     "metadata": {
      "tags": []
     },
     "output_type": "execute_result"
    }
   ],
   "source": [
    "# add constraints that if a vehicle visits a destination, the destination/vehicle must be active in the X matrix\n",
    "\n",
    "m.addConstrs(x.sum('*', j, k) == y[j, k]\n",
    "             for j in range(n)\n",
    "             for k in range(K)\n",
    "             )\n",
    "\n",
    "m.addConstrs(x.sum(j,'*', k) == y[j, k]\n",
    "             for j in range(n)\n",
    "             for k in range(K)\n",
    "             )"
   ]
  },
  {
   "cell_type": "code",
   "execution_count": 19,
   "metadata": {
    "colab": {
     "base_uri": "https://localhost:8080/"
    },
    "id": "toxybnk7BCL-",
    "outputId": "9f513880-df1a-4f48-a3a6-e44480754358"
   },
   "outputs": [
    {
     "data": {
      "text/plain": [
       "{1: <gurobi.Constr *Awaiting Model Update*>,\n",
       " 2: <gurobi.Constr *Awaiting Model Update*>,\n",
       " 3: <gurobi.Constr *Awaiting Model Update*>,\n",
       " 4: <gurobi.Constr *Awaiting Model Update*>,\n",
       " 5: <gurobi.Constr *Awaiting Model Update*>}"
      ]
     },
     "execution_count": 19,
     "metadata": {
      "tags": []
     },
     "output_type": "execute_result"
    }
   ],
   "source": [
    "# add constraint that lower indexed vehicles are utilized first before later indexed vehicles\n",
    "m.addConstrs(y.sum('*', k-1) >= y.sum('*', k)\n",
    "             for k in range(1, K)\n",
    "             )"
   ]
  },
  {
   "cell_type": "code",
   "execution_count": 20,
   "metadata": {
    "colab": {
     "base_uri": "https://localhost:8080/"
    },
    "id": "ygUqtqYXLrbx",
    "outputId": "118d3c77-3a70-42ba-ecc3-ea6b9ab18a65"
   },
   "outputs": [
    {
     "data": {
      "text/plain": [
       "{(0, 0): <gurobi.Constr *Awaiting Model Update*>,\n",
       " (0, 1): <gurobi.Constr *Awaiting Model Update*>,\n",
       " (0, 2): <gurobi.Constr *Awaiting Model Update*>,\n",
       " (0, 3): <gurobi.Constr *Awaiting Model Update*>,\n",
       " (0, 4): <gurobi.Constr *Awaiting Model Update*>,\n",
       " (0, 5): <gurobi.Constr *Awaiting Model Update*>,\n",
       " (1, 0): <gurobi.Constr *Awaiting Model Update*>,\n",
       " (1, 1): <gurobi.Constr *Awaiting Model Update*>,\n",
       " (1, 2): <gurobi.Constr *Awaiting Model Update*>,\n",
       " (1, 3): <gurobi.Constr *Awaiting Model Update*>,\n",
       " (1, 4): <gurobi.Constr *Awaiting Model Update*>,\n",
       " (1, 5): <gurobi.Constr *Awaiting Model Update*>,\n",
       " (2, 0): <gurobi.Constr *Awaiting Model Update*>,\n",
       " (2, 1): <gurobi.Constr *Awaiting Model Update*>,\n",
       " (2, 2): <gurobi.Constr *Awaiting Model Update*>,\n",
       " (2, 3): <gurobi.Constr *Awaiting Model Update*>,\n",
       " (2, 4): <gurobi.Constr *Awaiting Model Update*>,\n",
       " (2, 5): <gurobi.Constr *Awaiting Model Update*>,\n",
       " (3, 0): <gurobi.Constr *Awaiting Model Update*>,\n",
       " (3, 1): <gurobi.Constr *Awaiting Model Update*>,\n",
       " (3, 2): <gurobi.Constr *Awaiting Model Update*>,\n",
       " (3, 3): <gurobi.Constr *Awaiting Model Update*>,\n",
       " (3, 4): <gurobi.Constr *Awaiting Model Update*>,\n",
       " (3, 5): <gurobi.Constr *Awaiting Model Update*>,\n",
       " (4, 0): <gurobi.Constr *Awaiting Model Update*>,\n",
       " (4, 1): <gurobi.Constr *Awaiting Model Update*>,\n",
       " (4, 2): <gurobi.Constr *Awaiting Model Update*>,\n",
       " (4, 3): <gurobi.Constr *Awaiting Model Update*>,\n",
       " (4, 4): <gurobi.Constr *Awaiting Model Update*>,\n",
       " (4, 5): <gurobi.Constr *Awaiting Model Update*>,\n",
       " (5, 0): <gurobi.Constr *Awaiting Model Update*>,\n",
       " (5, 1): <gurobi.Constr *Awaiting Model Update*>,\n",
       " (5, 2): <gurobi.Constr *Awaiting Model Update*>,\n",
       " (5, 3): <gurobi.Constr *Awaiting Model Update*>,\n",
       " (5, 4): <gurobi.Constr *Awaiting Model Update*>,\n",
       " (5, 5): <gurobi.Constr *Awaiting Model Update*>,\n",
       " (6, 0): <gurobi.Constr *Awaiting Model Update*>,\n",
       " (6, 1): <gurobi.Constr *Awaiting Model Update*>,\n",
       " (6, 2): <gurobi.Constr *Awaiting Model Update*>,\n",
       " (6, 3): <gurobi.Constr *Awaiting Model Update*>,\n",
       " (6, 4): <gurobi.Constr *Awaiting Model Update*>,\n",
       " (6, 5): <gurobi.Constr *Awaiting Model Update*>,\n",
       " (7, 0): <gurobi.Constr *Awaiting Model Update*>,\n",
       " (7, 1): <gurobi.Constr *Awaiting Model Update*>,\n",
       " (7, 2): <gurobi.Constr *Awaiting Model Update*>,\n",
       " (7, 3): <gurobi.Constr *Awaiting Model Update*>,\n",
       " (7, 4): <gurobi.Constr *Awaiting Model Update*>,\n",
       " (7, 5): <gurobi.Constr *Awaiting Model Update*>,\n",
       " (8, 0): <gurobi.Constr *Awaiting Model Update*>,\n",
       " (8, 1): <gurobi.Constr *Awaiting Model Update*>,\n",
       " (8, 2): <gurobi.Constr *Awaiting Model Update*>,\n",
       " (8, 3): <gurobi.Constr *Awaiting Model Update*>,\n",
       " (8, 4): <gurobi.Constr *Awaiting Model Update*>,\n",
       " (8, 5): <gurobi.Constr *Awaiting Model Update*>,\n",
       " (9, 0): <gurobi.Constr *Awaiting Model Update*>,\n",
       " (9, 1): <gurobi.Constr *Awaiting Model Update*>,\n",
       " (9, 2): <gurobi.Constr *Awaiting Model Update*>,\n",
       " (9, 3): <gurobi.Constr *Awaiting Model Update*>,\n",
       " (9, 4): <gurobi.Constr *Awaiting Model Update*>,\n",
       " (9, 5): <gurobi.Constr *Awaiting Model Update*>,\n",
       " (10, 0): <gurobi.Constr *Awaiting Model Update*>,\n",
       " (10, 1): <gurobi.Constr *Awaiting Model Update*>,\n",
       " (10, 2): <gurobi.Constr *Awaiting Model Update*>,\n",
       " (10, 3): <gurobi.Constr *Awaiting Model Update*>,\n",
       " (10, 4): <gurobi.Constr *Awaiting Model Update*>,\n",
       " (10, 5): <gurobi.Constr *Awaiting Model Update*>,\n",
       " (11, 0): <gurobi.Constr *Awaiting Model Update*>,\n",
       " (11, 1): <gurobi.Constr *Awaiting Model Update*>,\n",
       " (11, 2): <gurobi.Constr *Awaiting Model Update*>,\n",
       " (11, 3): <gurobi.Constr *Awaiting Model Update*>,\n",
       " (11, 4): <gurobi.Constr *Awaiting Model Update*>,\n",
       " (11, 5): <gurobi.Constr *Awaiting Model Update*>,\n",
       " (12, 0): <gurobi.Constr *Awaiting Model Update*>,\n",
       " (12, 1): <gurobi.Constr *Awaiting Model Update*>,\n",
       " (12, 2): <gurobi.Constr *Awaiting Model Update*>,\n",
       " (12, 3): <gurobi.Constr *Awaiting Model Update*>,\n",
       " (12, 4): <gurobi.Constr *Awaiting Model Update*>,\n",
       " (12, 5): <gurobi.Constr *Awaiting Model Update*>,\n",
       " (13, 0): <gurobi.Constr *Awaiting Model Update*>,\n",
       " (13, 1): <gurobi.Constr *Awaiting Model Update*>,\n",
       " (13, 2): <gurobi.Constr *Awaiting Model Update*>,\n",
       " (13, 3): <gurobi.Constr *Awaiting Model Update*>,\n",
       " (13, 4): <gurobi.Constr *Awaiting Model Update*>,\n",
       " (13, 5): <gurobi.Constr *Awaiting Model Update*>,\n",
       " (14, 0): <gurobi.Constr *Awaiting Model Update*>,\n",
       " (14, 1): <gurobi.Constr *Awaiting Model Update*>,\n",
       " (14, 2): <gurobi.Constr *Awaiting Model Update*>,\n",
       " (14, 3): <gurobi.Constr *Awaiting Model Update*>,\n",
       " (14, 4): <gurobi.Constr *Awaiting Model Update*>,\n",
       " (14, 5): <gurobi.Constr *Awaiting Model Update*>,\n",
       " (15, 0): <gurobi.Constr *Awaiting Model Update*>,\n",
       " (15, 1): <gurobi.Constr *Awaiting Model Update*>,\n",
       " (15, 2): <gurobi.Constr *Awaiting Model Update*>,\n",
       " (15, 3): <gurobi.Constr *Awaiting Model Update*>,\n",
       " (15, 4): <gurobi.Constr *Awaiting Model Update*>,\n",
       " (15, 5): <gurobi.Constr *Awaiting Model Update*>,\n",
       " (16, 0): <gurobi.Constr *Awaiting Model Update*>,\n",
       " (16, 1): <gurobi.Constr *Awaiting Model Update*>,\n",
       " (16, 2): <gurobi.Constr *Awaiting Model Update*>,\n",
       " (16, 3): <gurobi.Constr *Awaiting Model Update*>,\n",
       " (16, 4): <gurobi.Constr *Awaiting Model Update*>,\n",
       " (16, 5): <gurobi.Constr *Awaiting Model Update*>}"
      ]
     },
     "execution_count": 20,
     "metadata": {
      "tags": []
     },
     "output_type": "execute_result"
    }
   ],
   "source": [
    "# add constraint that the departure and destination can't be the same location\n",
    "m.addConstrs(x[i, i, k] == 0\n",
    "             for i in range(n)\n",
    "             for k in range(K)\n",
    "             )"
   ]
  },
  {
   "cell_type": "markdown",
   "metadata": {
    "id": "wxk5bwR5L0K5"
   },
   "source": [
    "## Avoiding Cycles\n",
    "\n",
    "The next step is to ensure that a vehicle does not travel to a location multiple times (a 'cycle'). This code is provided by graduate coursework faculty."
   ]
  },
  {
   "cell_type": "code",
   "execution_count": 21,
   "metadata": {
    "id": "CkhcBGaNLc1s"
   },
   "outputs": [],
   "source": [
    "from itertools import permutations\n",
    " \n",
    "def subtourelim(model, where):\n",
    "    if where == GRB.Callback.MIPSOL:\n",
    "        # make a list of edges selected in the solution\n",
    "        vals = m.cbGetSolution(m._x)\n",
    "        selected = gp.tuplelist((i,j) for i, j, k in m._x.keys()\n",
    "                                if vals[i, j, k] > 0.5)\n",
    "        # find the shortest cycle in the selected edge list\n",
    "        tour = subtour(selected)\n",
    "        if len(tour) < n: \n",
    "            for k in range(K):\n",
    "                m.cbLazy(gp.quicksum(m._x[i, j, k]\n",
    "                                         for i, j in permutations(tour, 2))\n",
    "                             <= len(tour)-1)\n",
    " \n",
    " \n",
    "# Given a tuplelist of edges, find the shortest subtour not containing depot (0)\n",
    "def subtour(edges):\n",
    "    unvisited = list(range(1, n))\n",
    "    cycle = range(n+1)  # initial length has 1 more city\n",
    "    while unvisited:\n",
    "        thiscycle = []\n",
    "        neighbors = unvisited\n",
    "        while neighbors:\n",
    "            current = neighbors[0]\n",
    "            thiscycle.append(current)\n",
    "            if current != 0:\n",
    "                unvisited.remove(current)\n",
    "            neighbors = [j for i, j in edges.select(current, '*')\n",
    "                         if j == 0 or j in unvisited]\n",
    "        if 0 not in thiscycle and len(cycle) > len(thiscycle):\n",
    "            cycle = thiscycle\n",
    "    return cycle"
   ]
  },
  {
   "cell_type": "markdown",
   "metadata": {
    "id": "Vr-ff7nTcOlY"
   },
   "source": [
    "## Solve the Optimization Model"
   ]
  },
  {
   "cell_type": "code",
   "execution_count": 22,
   "metadata": {
    "colab": {
     "base_uri": "https://localhost:8080/"
    },
    "id": "sovezFrTcRz0",
    "outputId": "eb20d4f7-2fad-4ccd-c5d0-fa6833ca05c1"
   },
   "outputs": [
    {
     "name": "stdout",
     "output_type": "stream",
     "text": [
      "Changed value of parameter LazyConstraints to 1\n",
      "   Prev: 0  Min: 0  Max: 1  Default: 0\n",
      "Gurobi Optimizer version 9.1.2 build v9.1.2rc0 (linux64)\n",
      "Thread count: 1 physical cores, 2 logical processors, using up to 2 threads\n",
      "Optimize a model with 435 rows, 1842 columns and 5780 nonzeros\n",
      "Model fingerprint: 0xe124cbdf\n",
      "Variable types: 0 continuous, 1842 integer (1842 binary)\n",
      "Coefficient statistics:\n",
      "  Matrix range     [1e+00, 7e+01]\n",
      "  Objective range  [4e+00, 7e+01]\n",
      "  Bounds range     [1e+00, 1e+00]\n",
      "  RHS range        [1e+00, 1e+02]\n",
      "Presolve removed 103 rows and 103 columns\n",
      "Presolve time: 0.03s\n",
      "Presolved: 332 rows, 1739 columns, 5468 nonzeros\n",
      "Variable types: 0 continuous, 1739 integer (1739 binary)\n",
      "\n",
      "Root relaxation: objective 1.743750e+02, 540 iterations, 0.01 seconds\n",
      "\n",
      "    Nodes    |    Current Node    |     Objective Bounds      |     Work\n",
      " Expl Unexpl |  Obj  Depth IntInf | Incumbent    BestBd   Gap | It/Node Time\n",
      "\n",
      "     0     0  174.37500    0  210          -  174.37500      -     -    0s\n",
      "     0     0  178.58175    0  104          -  178.58175      -     -    0s\n",
      "     0     0  178.68436    0   61          -  178.68436      -     -    0s\n",
      "     0     0  179.50228    0   66          -  179.50228      -     -    0s\n",
      "     0     0  179.54672    0   71          -  179.54672      -     -    0s\n",
      "     0     0  179.54672    0   71          -  179.54672      -     -    0s\n",
      "     0     0  181.04134    0   79          -  181.04134      -     -    0s\n",
      "     0     2  181.46513    0   74          -  181.46513      -     -    0s\n",
      "H   92    54                     227.0000000  185.14286  18.4%  34.3    1s\n",
      "*  118    65              28     222.0000000  185.14286  16.6%  29.1    1s\n",
      "H  301    82                     208.0000000  189.69967  8.80%  26.5    2s\n",
      "H  303    43                     200.0000000  189.69967  5.15%  26.6    2s\n",
      "\n",
      "Cutting planes:\n",
      "  Gomory: 2\n",
      "  Cover: 4\n",
      "  Clique: 4\n",
      "  RLT: 8\n",
      "  Lazy constraints: 156\n",
      "\n",
      "Explored 400 nodes (11189 simplex iterations) in 2.23 seconds\n",
      "Thread count was 2 (of 2 available processors)\n",
      "\n",
      "Solution count 4: 200 208 222 227 \n",
      "\n",
      "Optimal solution found (tolerance 1.00e-04)\n",
      "Best objective 2.000000000000e+02, best bound 2.000000000000e+02, gap 0.0000%\n",
      "\n",
      "User-callback calls 1623, time in user-callback 0.05 sec\n"
     ]
    }
   ],
   "source": [
    "m._x = x\n",
    "m.Params.LazyConstraints = 1\n",
    "m.optimize(subtourelim)"
   ]
  },
  {
   "cell_type": "code",
   "execution_count": 23,
   "metadata": {
    "id": "Rv0mJLCm0JTz"
   },
   "outputs": [],
   "source": [
    "# save the optimized solution\n",
    "X = m.getAttr('X', x)"
   ]
  },
  {
   "cell_type": "markdown",
   "metadata": {
    "id": "GiqPw3RcNV-S"
   },
   "source": [
    "## Optimized Routing and Total Route Time\n",
    "\n",
    "The code below provides the vehicles used, routes, routing time per vehicle, and total routing time for the optimized model. The code below was provided by graduate coursework faculty."
   ]
  },
  {
   "cell_type": "code",
   "execution_count": 24,
   "metadata": {
    "colab": {
     "base_uri": "https://localhost:8080/"
    },
    "id": "1A-FBLo8M1DI",
    "outputId": "a44a8639-2f94-45ef-cf5b-fd35e5837cd0"
   },
   "outputs": [
    {
     "name": "stdout",
     "output_type": "stream",
     "text": [
      "Route for Vehicle 0: \n",
      "0  -> 16 -> 15 -> 2 -> 7 -> 14 -> 6 \n",
      "Travel time: 72.0 min \n",
      "\n",
      "Route for Vehicle 1: \n",
      "0  -> 3 -> 13 -> 5 -> 10 -> 4 -> 11 \n",
      "Travel time: 80.0 min \n",
      "\n",
      "Route for Vehicle 2: \n",
      "0  -> 9 -> 8 -> 1 -> 12 \n",
      "Travel time: 48.0 min \n",
      "\n",
      "Total Travel time: 200.0 min\n"
     ]
    }
   ],
   "source": [
    "# Print optimal routes\n",
    "for k in range(K):\n",
    "    route = gp.tuplelist((i,j) for i in range(n) for j in range(n) if X[i,j,k] > 0.5)\n",
    "    if route:\n",
    "        i = 0\n",
    "        print(f\"Route for Vehicle {k}: \\n{i}\", end=' ')\n",
    "        while True:\n",
    "            i = route.select(i, '*')[0][1]\n",
    "            if i == 0:\n",
    "                break\n",
    "            print(f\" -> {i}\", end='')\n",
    " \n",
    "        print(f\" \\nTravel time: {sum(c[i,j]*X[i,j,k] for i in range(n) for j in range(1,n))} min\", '\\n')\n",
    " \n",
    "print(f\"Total Travel time: {round(sum(c[i,j]*X[i,j,k] for i in range(n) for j in range(1,n) for k in range(K)),0)} min\")"
   ]
  },
  {
   "cell_type": "markdown",
   "metadata": {},
   "source": [
    "## Conclusion\n",
    "\n",
    "The optimized routing uses 3 vehicles, which all depart from the headquarters. The total optimized routing time is 200 minutes."
   ]
  }
 ],
 "metadata": {
  "colab": {
   "collapsed_sections": [],
   "name": "Homework 9 Aaron Bachman.ipynb",
   "provenance": []
  },
  "kernelspec": {
   "display_name": "Python 3",
   "language": "python",
   "name": "python3"
  },
  "language_info": {
   "codemirror_mode": {
    "name": "ipython",
    "version": 3
   },
   "file_extension": ".py",
   "mimetype": "text/x-python",
   "name": "python",
   "nbconvert_exporter": "python",
   "pygments_lexer": "ipython3",
   "version": "3.8.5"
  }
 },
 "nbformat": 4,
 "nbformat_minor": 1
}
