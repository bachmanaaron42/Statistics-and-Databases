{
 "cells": [
  {
   "cell_type": "markdown",
   "metadata": {},
   "source": [
    "#  Mobile App for Lottery Addiction\n",
    "\n",
    "This analysis will assist in the development of a mobile app that estimates the probability of various winning scenarios for people who like to play the lottery. Historical data from the national 6/49 lottery in Canada will be used."
   ]
  },
  {
   "cell_type": "code",
   "execution_count": 34,
   "metadata": {
    "collapsed": false
   },
   "outputs": [
    {
     "name": "stdout",
     "output_type": "stream",
     "text": [
      "120\n"
     ]
    }
   ],
   "source": [
    "# define a function for calculating the factorial of a number\n",
    "def get_factorial(num):\n",
    "    if num == 0:\n",
    "        return 0\n",
    "    elif num == 1:\n",
    "        return 1    \n",
    "    else:\n",
    "        initial_num = num\n",
    "        while num > 1:\n",
    "            if num == initial_num:\n",
    "                product = num\n",
    "            else:\n",
    "                product *= num\n",
    "            num -=1    \n",
    "            \n",
    "        return product\n",
    "\n",
    "# test the output\n",
    "print(get_factorial(5))"
   ]
  },
  {
   "cell_type": "code",
   "execution_count": 35,
   "metadata": {
    "collapsed": false
   },
   "outputs": [
    {
     "name": "stdout",
     "output_type": "stream",
     "text": [
      "45.0\n"
     ]
    }
   ],
   "source": [
    "# define a function to calculate statistical combinations\n",
    "def get_combinations(n, k):\n",
    "    numerator = get_factorial(n)\n",
    "    denominator = get_factorial(k) * get_factorial(n-k)\n",
    "    return numerator / denominator\n",
    "\n",
    "# test the output\n",
    "print(get_combinations(10, 2))"
   ]
  },
  {
   "cell_type": "code",
   "execution_count": 36,
   "metadata": {
    "collapsed": false
   },
   "outputs": [
    {
     "name": "stdout",
     "output_type": "stream",
     "text": [
      "0.000007151% chance of winning.\n"
     ]
    }
   ],
   "source": [
    "# define a function to calculate the probability of winning the 'big prize'\n",
    "def one_ticket_probability(ticket):\n",
    "    count_of_numbers = len(ticket)\n",
    "    \n",
    "    # hard code 49, as there are 49 numbers that can be chosen for each of the 6 numbers in the ticket\n",
    "    num_combinations = get_combinations(49, count_of_numbers)\n",
    "    successful_outcomes = 1\n",
    "    probability = successful_outcomes / num_combinations\n",
    "    prob_formatted = probability * 100\n",
    "    \n",
    "    # use str.format to convert scientific notation to decimal notation\n",
    "    print('{0:.9f}% chance of winning.'.format(prob_formatted))\n",
    "    \n",
    "# validate function output\n",
    "sample_ticket = [1, 2, 3, 4, 5, 6]\n",
    "one_ticket_probability(sample_ticket)"
   ]
  },
  {
   "cell_type": "markdown",
   "metadata": {},
   "source": [
    "## Probability Analysis\n",
    "\n",
    "As shown in the code above for the one_ticket_probability function, each individual ticket has a 0.000000072% change of winning the 'big prize' Each ticket consists of 6 unique numbers that can range from 1 to 49 (for each number). "
   ]
  },
  {
   "cell_type": "code",
   "execution_count": 37,
   "metadata": {
    "collapsed": false
   },
   "outputs": [
    {
     "name": "stdout",
     "output_type": "stream",
     "text": [
      "(3665, 11)\n"
     ]
    }
   ],
   "source": [
    "import pandas as pd\n",
    "\n",
    "# read in historical data from the 6/49 lottery in Canada\n",
    "past_drawings = pd.read_csv('649.csv')\n",
    "\n",
    "# output the number of rows and columns in the data set\n",
    "print(past_drawings.shape)"
   ]
  },
  {
   "cell_type": "code",
   "execution_count": 38,
   "metadata": {
    "collapsed": false
   },
   "outputs": [
    {
     "data": {
      "text/html": [
       "<div>\n",
       "<style scoped>\n",
       "    .dataframe tbody tr th:only-of-type {\n",
       "        vertical-align: middle;\n",
       "    }\n",
       "\n",
       "    .dataframe tbody tr th {\n",
       "        vertical-align: top;\n",
       "    }\n",
       "\n",
       "    .dataframe thead th {\n",
       "        text-align: right;\n",
       "    }\n",
       "</style>\n",
       "<table border=\"1\" class=\"dataframe\">\n",
       "  <thead>\n",
       "    <tr style=\"text-align: right;\">\n",
       "      <th></th>\n",
       "      <th>PRODUCT</th>\n",
       "      <th>DRAW NUMBER</th>\n",
       "      <th>SEQUENCE NUMBER</th>\n",
       "      <th>DRAW DATE</th>\n",
       "      <th>NUMBER DRAWN 1</th>\n",
       "      <th>NUMBER DRAWN 2</th>\n",
       "      <th>NUMBER DRAWN 3</th>\n",
       "      <th>NUMBER DRAWN 4</th>\n",
       "      <th>NUMBER DRAWN 5</th>\n",
       "      <th>NUMBER DRAWN 6</th>\n",
       "      <th>BONUS NUMBER</th>\n",
       "    </tr>\n",
       "  </thead>\n",
       "  <tbody>\n",
       "    <tr>\n",
       "      <th>0</th>\n",
       "      <td>649</td>\n",
       "      <td>1</td>\n",
       "      <td>0</td>\n",
       "      <td>6/12/1982</td>\n",
       "      <td>3</td>\n",
       "      <td>11</td>\n",
       "      <td>12</td>\n",
       "      <td>14</td>\n",
       "      <td>41</td>\n",
       "      <td>43</td>\n",
       "      <td>13</td>\n",
       "    </tr>\n",
       "    <tr>\n",
       "      <th>1</th>\n",
       "      <td>649</td>\n",
       "      <td>2</td>\n",
       "      <td>0</td>\n",
       "      <td>6/19/1982</td>\n",
       "      <td>8</td>\n",
       "      <td>33</td>\n",
       "      <td>36</td>\n",
       "      <td>37</td>\n",
       "      <td>39</td>\n",
       "      <td>41</td>\n",
       "      <td>9</td>\n",
       "    </tr>\n",
       "    <tr>\n",
       "      <th>2</th>\n",
       "      <td>649</td>\n",
       "      <td>3</td>\n",
       "      <td>0</td>\n",
       "      <td>6/26/1982</td>\n",
       "      <td>1</td>\n",
       "      <td>6</td>\n",
       "      <td>23</td>\n",
       "      <td>24</td>\n",
       "      <td>27</td>\n",
       "      <td>39</td>\n",
       "      <td>34</td>\n",
       "    </tr>\n",
       "  </tbody>\n",
       "</table>\n",
       "</div>"
      ],
      "text/plain": [
       "   PRODUCT  DRAW NUMBER  SEQUENCE NUMBER  DRAW DATE  NUMBER DRAWN 1  \\\n",
       "0      649            1                0  6/12/1982               3   \n",
       "1      649            2                0  6/19/1982               8   \n",
       "2      649            3                0  6/26/1982               1   \n",
       "\n",
       "   NUMBER DRAWN 2  NUMBER DRAWN 3  NUMBER DRAWN 4  NUMBER DRAWN 5  \\\n",
       "0              11              12              14              41   \n",
       "1              33              36              37              39   \n",
       "2               6              23              24              27   \n",
       "\n",
       "   NUMBER DRAWN 6  BONUS NUMBER  \n",
       "0              43            13  \n",
       "1              41             9  \n",
       "2              39            34  "
      ]
     },
     "execution_count": 38,
     "metadata": {},
     "output_type": "execute_result"
    }
   ],
   "source": [
    "# output the first 3 rows of data\n",
    "past_drawings.head(3)"
   ]
  },
  {
   "cell_type": "code",
   "execution_count": 39,
   "metadata": {
    "collapsed": false
   },
   "outputs": [
    {
     "data": {
      "text/html": [
       "<div>\n",
       "<style scoped>\n",
       "    .dataframe tbody tr th:only-of-type {\n",
       "        vertical-align: middle;\n",
       "    }\n",
       "\n",
       "    .dataframe tbody tr th {\n",
       "        vertical-align: top;\n",
       "    }\n",
       "\n",
       "    .dataframe thead th {\n",
       "        text-align: right;\n",
       "    }\n",
       "</style>\n",
       "<table border=\"1\" class=\"dataframe\">\n",
       "  <thead>\n",
       "    <tr style=\"text-align: right;\">\n",
       "      <th></th>\n",
       "      <th>PRODUCT</th>\n",
       "      <th>DRAW NUMBER</th>\n",
       "      <th>SEQUENCE NUMBER</th>\n",
       "      <th>DRAW DATE</th>\n",
       "      <th>NUMBER DRAWN 1</th>\n",
       "      <th>NUMBER DRAWN 2</th>\n",
       "      <th>NUMBER DRAWN 3</th>\n",
       "      <th>NUMBER DRAWN 4</th>\n",
       "      <th>NUMBER DRAWN 5</th>\n",
       "      <th>NUMBER DRAWN 6</th>\n",
       "      <th>BONUS NUMBER</th>\n",
       "    </tr>\n",
       "  </thead>\n",
       "  <tbody>\n",
       "    <tr>\n",
       "      <th>3662</th>\n",
       "      <td>649</td>\n",
       "      <td>3589</td>\n",
       "      <td>0</td>\n",
       "      <td>6/13/2018</td>\n",
       "      <td>6</td>\n",
       "      <td>22</td>\n",
       "      <td>24</td>\n",
       "      <td>31</td>\n",
       "      <td>32</td>\n",
       "      <td>34</td>\n",
       "      <td>16</td>\n",
       "    </tr>\n",
       "    <tr>\n",
       "      <th>3663</th>\n",
       "      <td>649</td>\n",
       "      <td>3590</td>\n",
       "      <td>0</td>\n",
       "      <td>6/16/2018</td>\n",
       "      <td>2</td>\n",
       "      <td>15</td>\n",
       "      <td>21</td>\n",
       "      <td>31</td>\n",
       "      <td>38</td>\n",
       "      <td>49</td>\n",
       "      <td>8</td>\n",
       "    </tr>\n",
       "    <tr>\n",
       "      <th>3664</th>\n",
       "      <td>649</td>\n",
       "      <td>3591</td>\n",
       "      <td>0</td>\n",
       "      <td>6/20/2018</td>\n",
       "      <td>14</td>\n",
       "      <td>24</td>\n",
       "      <td>31</td>\n",
       "      <td>35</td>\n",
       "      <td>37</td>\n",
       "      <td>48</td>\n",
       "      <td>17</td>\n",
       "    </tr>\n",
       "  </tbody>\n",
       "</table>\n",
       "</div>"
      ],
      "text/plain": [
       "      PRODUCT  DRAW NUMBER  SEQUENCE NUMBER  DRAW DATE  NUMBER DRAWN 1  \\\n",
       "3662      649         3589                0  6/13/2018               6   \n",
       "3663      649         3590                0  6/16/2018               2   \n",
       "3664      649         3591                0  6/20/2018              14   \n",
       "\n",
       "      NUMBER DRAWN 2  NUMBER DRAWN 3  NUMBER DRAWN 4  NUMBER DRAWN 5  \\\n",
       "3662              22              24              31              32   \n",
       "3663              15              21              31              38   \n",
       "3664              24              31              35              37   \n",
       "\n",
       "      NUMBER DRAWN 6  BONUS NUMBER  \n",
       "3662              34            16  \n",
       "3663              49             8  \n",
       "3664              48            17  "
      ]
     },
     "execution_count": 39,
     "metadata": {},
     "output_type": "execute_result"
    }
   ],
   "source": [
    "# output the last 3 rows of data\n",
    "past_drawings.tail(3)"
   ]
  },
  {
   "cell_type": "code",
   "execution_count": 40,
   "metadata": {
    "collapsed": false
   },
   "outputs": [
    {
     "name": "stdout",
     "output_type": "stream",
     "text": [
      "{35, 37, 14, 48, 24, 31}\n"
     ]
    }
   ],
   "source": [
    "# define a function to extract all the historical winning numbers into a set data type\n",
    "def get_past_wins(drawing):\n",
    "    winning_nums = []\n",
    "    for i in range(1, 7):\n",
    "        winning_nums.append(drawing['NUMBER DRAWN {0}'.format(i)])\n",
    "        \n",
    "    # convert the list to a set\n",
    "    winning_set = set(winning_nums)\n",
    "    return winning_set\n",
    "\n",
    "# validate the output\n",
    "print(get_past_wins(past_drawings.iloc[3664]))"
   ]
  },
  {
   "cell_type": "code",
   "execution_count": 41,
   "metadata": {
    "collapsed": false
   },
   "outputs": [
    {
     "name": "stdout",
     "output_type": "stream",
     "text": [
      "0    {3, 41, 11, 12, 43, 14}\n",
      "1    {33, 36, 37, 39, 8, 41}\n",
      "2     {1, 6, 39, 23, 24, 27}\n",
      "3     {3, 9, 10, 43, 13, 20}\n",
      "4    {34, 5, 14, 47, 21, 31}\n",
      "dtype: object\n"
     ]
    }
   ],
   "source": [
    "# create a Series of all the historical winning numbers\n",
    "all_past_wins = past_drawings.apply(get_past_wins, axis=1)\n",
    "\n",
    "# validate the series\n",
    "print(all_past_wins.head())"
   ]
  },
  {
   "cell_type": "code",
   "execution_count": 42,
   "metadata": {
    "collapsed": false
   },
   "outputs": [
    {
     "name": "stdout",
     "output_type": "stream",
     "text": [
      "Your ticket would have won 0 times.\n",
      "You have a 0.000007151% chance of winning in the next drawing.\n"
     ]
    }
   ],
   "source": [
    "# define a function that checks the series of historical winnings to match with the user's current ticket numbers\n",
    "def check_historical_occurrence(user_ticket, winning_sets):\n",
    "    user_set = set(user_ticket)\n",
    "    # check the winning sets for the user set\n",
    "    is_found = user_set == winning_sets\n",
    "    \n",
    "    # print number of times the winning set was found\n",
    "    num_true = 0\n",
    "    for record in is_found:\n",
    "        if record == True:\n",
    "            num_true += 1\n",
    "    \n",
    "    print('Your ticket would have won {0} times.'.format(num_true))\n",
    "    \n",
    "    # output the probability of winning the 'big prize' in the next drawing with the current numbers\n",
    "    num_combos = get_combinations(49, 6)\n",
    "    prob = 1 / num_combos\n",
    "    pr_formatted = prob * 100\n",
    "    print('You have a {0:.9f}% chance of winning in the next drawing.'.format(pr_formatted))\n",
    "    \n",
    "# validate the output\n",
    "ticket = [10, 20, 30, 35, 36]\n",
    "check_historical_occurrence(ticket, all_past_wins)"
   ]
  },
  {
   "cell_type": "code",
   "execution_count": 43,
   "metadata": {
    "collapsed": false
   },
   "outputs": [
    {
     "name": "stdout",
     "output_type": "stream",
     "text": [
      "Your ticket would have won 1 times.\n",
      "You have a 0.000007151% chance of winning in the next drawing.\n"
     ]
    }
   ],
   "source": [
    "# validate the function with a known winning ticket\n",
    "winning_ticket = [1, 6, 39, 23, 24, 27]\n",
    "check_historical_occurrence(winning_ticket, all_past_wins)"
   ]
  },
  {
   "cell_type": "markdown",
   "metadata": {},
   "source": [
    "## Checking Historical Winning Numbers\n",
    "\n",
    "As shown in the code above, the app will check the number of times the user-entered ticket numbers would have won (using historical winning numbers). It also (again) returns the probability that the user will win in the next drawing, which of course, is the same as the initial probability of winning that was printed."
   ]
  },
  {
   "cell_type": "code",
   "execution_count": 44,
   "metadata": {
    "collapsed": false
   },
   "outputs": [
    {
     "name": "stdout",
     "output_type": "stream",
     "text": [
      "You have a 0.000007151% chance of winning with 1 tickets.\n",
      "You have a 0.000071511% chance of winning with 10 tickets.\n",
      "You have a 0.000715112% chance of winning with 100 tickets.\n",
      "You have a 0.071511238% chance of winning with 10000 tickets.\n",
      "You have a 50.000000000% chance of winning with 6991908 tickets.\n",
      "You have a 100.000000000% chance of winning with 13983816 tickets.\n"
     ]
    }
   ],
   "source": [
    "# define a function to calculate the probability of winning with multiple tickets\n",
    "def multi_ticket_probability(num_tickets):\n",
    "    total_num_poss_outcomes = get_combinations(49, 6)\n",
    "    prblty = num_tickets / total_num_poss_outcomes\n",
    "    p_formatted = prblty * 100\n",
    "    print('You have a {0:.9f}% chance of winning with {1} tickets.'.format(p_formatted, num_tickets))\n",
    "\n",
    "# validate output\n",
    "multi_ticket_probability(1)\n",
    "multi_ticket_probability(10)\n",
    "multi_ticket_probability(100)\n",
    "multi_ticket_probability(10000)\n",
    "multi_ticket_probability(6991908)\n",
    "multi_ticket_probability(13983816)"
   ]
  },
  {
   "cell_type": "code",
   "execution_count": 48,
   "metadata": {
    "collapsed": false
   },
   "outputs": [
    {
     "name": "stdout",
     "output_type": "stream",
     "text": [
      "For 2 winning numbers, you have a 19.132653061% chance of winning.\n",
      "For 3 winning numbers, you have a 2.171081198% chance of winning.\n",
      "For 4 winning numbers, you have a 0.106194189% chance of winning.\n",
      "For 5 winning numbers, you have a 0.001887897% chance of winning.\n"
     ]
    }
   ],
   "source": [
    "# define a function to compute the probability of winning smaller prizes with fewer matching numbers\n",
    "def probability_less_6(num_winning_numbers):\n",
    "    # find number of combinations (on a 6 number ticket) with user entered number of winning numbers\n",
    "    num_combos_on_six_num_ticket = get_combinations(6, num_winning_numbers)\n",
    "    \n",
    "    # find total possible outcomes\n",
    "    tot_pos_outcomes = get_combinations(49, 6)\n",
    "    \n",
    "    # find how many outcomes remain by subtracting number of winning numbers from the numerator and denominator of normal combinations calculation\n",
    "    num_remaining_combos = get_combinations(49 - num_winning_numbers, 6 - num_winning_numbers)\n",
    "    \n",
    "    # compute the final number of successful outcomes by multiplying number of combos and number of remaining combos\n",
    "    num_successful_outcomes = num_combos_on_six_num_ticket * num_remaining_combos\n",
    "    \n",
    "    # calculate the probability\n",
    "    prb = num_successful_outcomes / tot_pos_outcomes\n",
    "    prb_format = prb * 100\n",
    "    \n",
    "    print('For {0} winning numbers, you have a {1:.9f}% chance of winning.'.format(num_winning_numbers, prb_format))\n",
    "\n",
    "# validate the output\n",
    "probability_less_6(2)\n",
    "probability_less_6(3)\n",
    "probability_less_6(4)\n",
    "probability_less_6(5)"
   ]
  },
  {
   "cell_type": "markdown",
   "metadata": {},
   "source": [
    "# Conclusion\n",
    "\n",
    "The calculations within the app will provide end users with information regarding their chances of winning. The intention would be for users to base their gambling habits on the statistical number, so they can make more informed decisions about when and when not to gamble."
   ]
  }
 ],
 "metadata": {
  "kernelspec": {
   "display_name": "Python 3",
   "language": "python",
   "name": "python3"
  },
  "language_info": {
   "codemirror_mode": {
    "name": "ipython",
    "version": 3
   },
   "file_extension": ".py",
   "mimetype": "text/x-python",
   "name": "python",
   "nbconvert_exporter": "python",
   "pygments_lexer": "ipython3",
   "version": "3.4.3"
  }
 },
 "nbformat": 4,
 "nbformat_minor": 2
}
