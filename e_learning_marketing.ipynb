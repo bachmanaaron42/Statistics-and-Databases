{
 "cells": [
  {
   "cell_type": "markdown",
   "metadata": {},
   "source": [
    "# Discover Best E-Learning Market\n",
    "\n",
    "This analysis will uncover the 2 best markets to advertise in for an E-Learning company that teaches programming. For this analysis, an existing survey of new coders from freeCodeCamp will be used to uncover insights about new coders (potential customers of an E-Learning platform). The core competency of the company that is performing this analysis is web and mobile development, and the company will charge $59 per month for access to the learning platform."
   ]
  },
  {
   "cell_type": "code",
   "execution_count": 2,
   "metadata": {
    "collapsed": false
   },
   "outputs": [
    {
     "data": {
      "text/html": [
       "<div>\n",
       "<style scoped>\n",
       "    .dataframe tbody tr th:only-of-type {\n",
       "        vertical-align: middle;\n",
       "    }\n",
       "\n",
       "    .dataframe tbody tr th {\n",
       "        vertical-align: top;\n",
       "    }\n",
       "\n",
       "    .dataframe thead th {\n",
       "        text-align: right;\n",
       "    }\n",
       "</style>\n",
       "<table border=\"1\" class=\"dataframe\">\n",
       "  <thead>\n",
       "    <tr style=\"text-align: right;\">\n",
       "      <th></th>\n",
       "      <th>Age</th>\n",
       "      <th>AttendedBootcamp</th>\n",
       "      <th>BootcampFinish</th>\n",
       "      <th>BootcampLoanYesNo</th>\n",
       "      <th>BootcampName</th>\n",
       "      <th>BootcampRecommend</th>\n",
       "      <th>ChildrenNumber</th>\n",
       "      <th>CityPopulation</th>\n",
       "      <th>CodeEventConferences</th>\n",
       "      <th>CodeEventDjangoGirls</th>\n",
       "      <th>...</th>\n",
       "      <th>YouTubeFCC</th>\n",
       "      <th>YouTubeFunFunFunction</th>\n",
       "      <th>YouTubeGoogleDev</th>\n",
       "      <th>YouTubeLearnCode</th>\n",
       "      <th>YouTubeLevelUpTuts</th>\n",
       "      <th>YouTubeMIT</th>\n",
       "      <th>YouTubeMozillaHacks</th>\n",
       "      <th>YouTubeOther</th>\n",
       "      <th>YouTubeSimplilearn</th>\n",
       "      <th>YouTubeTheNewBoston</th>\n",
       "    </tr>\n",
       "  </thead>\n",
       "  <tbody>\n",
       "    <tr>\n",
       "      <th>0</th>\n",
       "      <td>27.0</td>\n",
       "      <td>0.0</td>\n",
       "      <td>NaN</td>\n",
       "      <td>NaN</td>\n",
       "      <td>NaN</td>\n",
       "      <td>NaN</td>\n",
       "      <td>NaN</td>\n",
       "      <td>more than 1 million</td>\n",
       "      <td>NaN</td>\n",
       "      <td>NaN</td>\n",
       "      <td>...</td>\n",
       "      <td>NaN</td>\n",
       "      <td>NaN</td>\n",
       "      <td>NaN</td>\n",
       "      <td>NaN</td>\n",
       "      <td>NaN</td>\n",
       "      <td>NaN</td>\n",
       "      <td>NaN</td>\n",
       "      <td>NaN</td>\n",
       "      <td>NaN</td>\n",
       "      <td>NaN</td>\n",
       "    </tr>\n",
       "    <tr>\n",
       "      <th>1</th>\n",
       "      <td>34.0</td>\n",
       "      <td>0.0</td>\n",
       "      <td>NaN</td>\n",
       "      <td>NaN</td>\n",
       "      <td>NaN</td>\n",
       "      <td>NaN</td>\n",
       "      <td>NaN</td>\n",
       "      <td>less than 100,000</td>\n",
       "      <td>NaN</td>\n",
       "      <td>NaN</td>\n",
       "      <td>...</td>\n",
       "      <td>1.0</td>\n",
       "      <td>NaN</td>\n",
       "      <td>NaN</td>\n",
       "      <td>NaN</td>\n",
       "      <td>NaN</td>\n",
       "      <td>NaN</td>\n",
       "      <td>NaN</td>\n",
       "      <td>NaN</td>\n",
       "      <td>NaN</td>\n",
       "      <td>NaN</td>\n",
       "    </tr>\n",
       "    <tr>\n",
       "      <th>2</th>\n",
       "      <td>21.0</td>\n",
       "      <td>0.0</td>\n",
       "      <td>NaN</td>\n",
       "      <td>NaN</td>\n",
       "      <td>NaN</td>\n",
       "      <td>NaN</td>\n",
       "      <td>NaN</td>\n",
       "      <td>more than 1 million</td>\n",
       "      <td>NaN</td>\n",
       "      <td>NaN</td>\n",
       "      <td>...</td>\n",
       "      <td>NaN</td>\n",
       "      <td>NaN</td>\n",
       "      <td>NaN</td>\n",
       "      <td>1.0</td>\n",
       "      <td>1.0</td>\n",
       "      <td>NaN</td>\n",
       "      <td>NaN</td>\n",
       "      <td>NaN</td>\n",
       "      <td>NaN</td>\n",
       "      <td>NaN</td>\n",
       "    </tr>\n",
       "    <tr>\n",
       "      <th>3</th>\n",
       "      <td>26.0</td>\n",
       "      <td>0.0</td>\n",
       "      <td>NaN</td>\n",
       "      <td>NaN</td>\n",
       "      <td>NaN</td>\n",
       "      <td>NaN</td>\n",
       "      <td>NaN</td>\n",
       "      <td>between 100,000 and 1 million</td>\n",
       "      <td>NaN</td>\n",
       "      <td>NaN</td>\n",
       "      <td>...</td>\n",
       "      <td>1.0</td>\n",
       "      <td>1.0</td>\n",
       "      <td>NaN</td>\n",
       "      <td>NaN</td>\n",
       "      <td>1.0</td>\n",
       "      <td>NaN</td>\n",
       "      <td>NaN</td>\n",
       "      <td>NaN</td>\n",
       "      <td>NaN</td>\n",
       "      <td>NaN</td>\n",
       "    </tr>\n",
       "    <tr>\n",
       "      <th>4</th>\n",
       "      <td>20.0</td>\n",
       "      <td>0.0</td>\n",
       "      <td>NaN</td>\n",
       "      <td>NaN</td>\n",
       "      <td>NaN</td>\n",
       "      <td>NaN</td>\n",
       "      <td>NaN</td>\n",
       "      <td>between 100,000 and 1 million</td>\n",
       "      <td>NaN</td>\n",
       "      <td>NaN</td>\n",
       "      <td>...</td>\n",
       "      <td>NaN</td>\n",
       "      <td>NaN</td>\n",
       "      <td>NaN</td>\n",
       "      <td>NaN</td>\n",
       "      <td>NaN</td>\n",
       "      <td>NaN</td>\n",
       "      <td>NaN</td>\n",
       "      <td>NaN</td>\n",
       "      <td>NaN</td>\n",
       "      <td>NaN</td>\n",
       "    </tr>\n",
       "  </tbody>\n",
       "</table>\n",
       "<p>5 rows × 136 columns</p>\n",
       "</div>"
      ],
      "text/plain": [
       "    Age  AttendedBootcamp  BootcampFinish  BootcampLoanYesNo BootcampName  \\\n",
       "0  27.0               0.0             NaN                NaN          NaN   \n",
       "1  34.0               0.0             NaN                NaN          NaN   \n",
       "2  21.0               0.0             NaN                NaN          NaN   \n",
       "3  26.0               0.0             NaN                NaN          NaN   \n",
       "4  20.0               0.0             NaN                NaN          NaN   \n",
       "\n",
       "   BootcampRecommend  ChildrenNumber                 CityPopulation  \\\n",
       "0                NaN             NaN            more than 1 million   \n",
       "1                NaN             NaN              less than 100,000   \n",
       "2                NaN             NaN            more than 1 million   \n",
       "3                NaN             NaN  between 100,000 and 1 million   \n",
       "4                NaN             NaN  between 100,000 and 1 million   \n",
       "\n",
       "   CodeEventConferences  CodeEventDjangoGirls         ...           \\\n",
       "0                   NaN                   NaN         ...            \n",
       "1                   NaN                   NaN         ...            \n",
       "2                   NaN                   NaN         ...            \n",
       "3                   NaN                   NaN         ...            \n",
       "4                   NaN                   NaN         ...            \n",
       "\n",
       "   YouTubeFCC  YouTubeFunFunFunction  YouTubeGoogleDev  YouTubeLearnCode  \\\n",
       "0         NaN                    NaN               NaN               NaN   \n",
       "1         1.0                    NaN               NaN               NaN   \n",
       "2         NaN                    NaN               NaN               1.0   \n",
       "3         1.0                    1.0               NaN               NaN   \n",
       "4         NaN                    NaN               NaN               NaN   \n",
       "\n",
       "   YouTubeLevelUpTuts  YouTubeMIT  YouTubeMozillaHacks YouTubeOther  \\\n",
       "0                 NaN         NaN                  NaN          NaN   \n",
       "1                 NaN         NaN                  NaN          NaN   \n",
       "2                 1.0         NaN                  NaN          NaN   \n",
       "3                 1.0         NaN                  NaN          NaN   \n",
       "4                 NaN         NaN                  NaN          NaN   \n",
       "\n",
       "   YouTubeSimplilearn  YouTubeTheNewBoston  \n",
       "0                 NaN                  NaN  \n",
       "1                 NaN                  NaN  \n",
       "2                 NaN                  NaN  \n",
       "3                 NaN                  NaN  \n",
       "4                 NaN                  NaN  \n",
       "\n",
       "[5 rows x 136 columns]"
      ]
     },
     "execution_count": 2,
     "metadata": {},
     "output_type": "execute_result"
    }
   ],
   "source": [
    "import pandas as pd\n",
    "\n",
    "# ignore Jupyter warnings\n",
    "import warnings\n",
    "warnings.filterwarnings('ignore')\n",
    "\n",
    "# read the data set into a data frame\n",
    "coder_survey = pd.read_csv('2017-fCC-New-Coders-Survey-Data.csv')\n",
    "\n",
    "# view the first 5 rows of the data set\n",
    "coder_survey.head()"
   ]
  },
  {
   "cell_type": "code",
   "execution_count": 3,
   "metadata": {
    "collapsed": false
   },
   "outputs": [
    {
     "data": {
      "text/plain": [
       "Index(['Age', 'AttendedBootcamp', 'BootcampFinish', 'BootcampLoanYesNo',\n",
       "       'BootcampName', 'BootcampRecommend', 'ChildrenNumber', 'CityPopulation',\n",
       "       'CodeEventConferences', 'CodeEventDjangoGirls',\n",
       "       ...\n",
       "       'YouTubeFCC', 'YouTubeFunFunFunction', 'YouTubeGoogleDev',\n",
       "       'YouTubeLearnCode', 'YouTubeLevelUpTuts', 'YouTubeMIT',\n",
       "       'YouTubeMozillaHacks', 'YouTubeOther', 'YouTubeSimplilearn',\n",
       "       'YouTubeTheNewBoston'],\n",
       "      dtype='object', length=136)"
      ]
     },
     "execution_count": 3,
     "metadata": {},
     "output_type": "execute_result"
    }
   ],
   "source": [
    "# display the column names for reference\n",
    "coder_survey.columns"
   ]
  },
  {
   "cell_type": "markdown",
   "metadata": {},
   "source": [
    "### Initial Understanding of Data Set\n",
    "\n",
    "This data set is a survey of many developers, which contains several features (columns) about the developer, such as age, income, if they attended a coding bootcamp, if they've watched coding videos on YouTube, their gender, and more.\n",
    "\n",
    "The data set can be downloaded at https://github.com/freeCodeCamp/2017-new-coder-survey\n",
    "\n",
    "The intent of using an existing data set instead of creating a new survey is due to the fact that it is much cheaper to use existing data than to create an initiative to gather new data."
   ]
  },
  {
   "cell_type": "code",
   "execution_count": 4,
   "metadata": {
    "collapsed": false
   },
   "outputs": [
    {
     "data": {
      "text/plain": [
       "Full-Stack Web Developer                                                                                                                                                                                                                                  11.770595\n",
       "  Front-End Web Developer                                                                                                                                                                                                                                  6.435927\n",
       "  Data Scientist                                                                                                                                                                                                                                           2.173913\n",
       "Back-End Web Developer                                                                                                                                                                                                                                     2.030892\n",
       "  Mobile Developer                                                                                                                                                                                                                                         1.673341\n",
       "Game Developer                                                                                                                                                                                                                                             1.630435\n",
       "Information Security                                                                                                                                                                                                                                       1.315789\n",
       "Full-Stack Web Developer,   Front-End Web Developer                                                                                                                                                                                                        0.915332\n",
       "  Front-End Web Developer, Full-Stack Web Developer                                                                                                                                                                                                        0.800915\n",
       "  Product Manager                                                                                                                                                                                                                                          0.786613\n",
       "Data Engineer                                                                                                                                                                                                                                              0.758009\n",
       "  User Experience Designer                                                                                                                                                                                                                                 0.743707\n",
       "  User Experience Designer,   Front-End Web Developer                                                                                                                                                                                                      0.614989\n",
       "  Front-End Web Developer, Back-End Web Developer, Full-Stack Web Developer                                                                                                                                                                                0.557780\n",
       "Back-End Web Developer, Full-Stack Web Developer,   Front-End Web Developer                                                                                                                                                                                0.514874\n",
       "  DevOps / SysAdmin                                                                                                                                                                                                                                        0.514874\n",
       "Back-End Web Developer,   Front-End Web Developer, Full-Stack Web Developer                                                                                                                                                                                0.514874\n",
       "Full-Stack Web Developer,   Front-End Web Developer, Back-End Web Developer                                                                                                                                                                                0.443364\n",
       "  Front-End Web Developer, Full-Stack Web Developer, Back-End Web Developer                                                                                                                                                                                0.429062\n",
       "  Front-End Web Developer,   User Experience Designer                                                                                                                                                                                                      0.414760\n",
       "Full-Stack Web Developer,   Mobile Developer                                                                                                                                                                                                               0.414760\n",
       "Back-End Web Developer, Full-Stack Web Developer                                                                                                                                                                                                           0.386156\n",
       "Full-Stack Web Developer, Back-End Web Developer                                                                                                                                                                                                           0.371854\n",
       "Back-End Web Developer,   Front-End Web Developer                                                                                                                                                                                                          0.286041\n",
       "Data Engineer,   Data Scientist                                                                                                                                                                                                                            0.271739\n",
       "Full-Stack Web Developer, Back-End Web Developer,   Front-End Web Developer                                                                                                                                                                                0.271739\n",
       "  Front-End Web Developer,   Mobile Developer                                                                                                                                                                                                              0.257437\n",
       "Full-Stack Web Developer,   Data Scientist                                                                                                                                                                                                                 0.243135\n",
       "  Data Scientist, Data Engineer                                                                                                                                                                                                                            0.228833\n",
       "  Mobile Developer, Game Developer                                                                                                                                                                                                                         0.228833\n",
       "                                                                                                                                                                                                                                                            ...    \n",
       "Data Engineer,   Data Scientist, Back-End Web Developer, Information Security, Full-Stack Web Developer, Game Developer,   Mobile Developer,   Front-End Web Developer,   DevOps / SysAdmin,   User Experience Designer                                    0.014302\n",
       "  Mobile Developer,   Front-End Web Developer, Full-Stack Web Developer,   DevOps / SysAdmin, Back-End Web Developer                                                                                                                                       0.014302\n",
       "  Product Manager, Full-Stack Web Developer,   Data Scientist, Game Developer                                                                                                                                                                              0.014302\n",
       "Game Developer,   Mobile Developer, Full-Stack Web Developer                                                                                                                                                                                               0.014302\n",
       "Back-End Web Developer, Game Developer,   Mobile Developer, Full-Stack Web Developer,   Front-End Web Developer,   User Experience Designer                                                                                                                0.014302\n",
       "User Interface Designer                                                                                                                                                                                                                                    0.014302\n",
       "Full-Stack Web Developer,   Mobile Developer,   Data Scientist,   Front-End Web Developer                                                                                                                                                                  0.014302\n",
       "Full-Stack Web Developer,   Front-End Web Developer, Back-End Web Developer, Information Security,   Mobile Developer, Game Developer,   Product Manager,   User Experience Designer,   Quality Assurance Engineer, Data Engineer,   DevOps / SysAdmin     0.014302\n",
       "Game Developer,   User Experience Designer, Information Security,   DevOps / SysAdmin                                                                                                                                                                      0.014302\n",
       "  Data Scientist,   User Experience Designer,   Front-End Web Developer, Full-Stack Web Developer                                                                                                                                                          0.014302\n",
       "  DevOps / SysAdmin, Full-Stack Web Developer, Data Engineer,   Data Scientist, Information Security                                                                                                                                                       0.014302\n",
       "  User Experience Designer,   Mobile Developer, Back-End Web Developer,   Product Manager,   Front-End Web Developer, Full-Stack Web Developer                                                                                                             0.014302\n",
       "Information Security,   Product Manager, Full-Stack Web Developer                                                                                                                                                                                          0.014302\n",
       "Research                                                                                                                                                                                                                                                   0.014302\n",
       "Back-End Web Developer, Full-Stack Web Developer,   Data Scientist, Data Engineer,   Quality Assurance Engineer,   Front-End Web Developer                                                                                                                 0.014302\n",
       "Information Security, Full-Stack Web Developer, Data Engineer, Back-End Web Developer,   Data Scientist                                                                                                                                                    0.014302\n",
       "Game Developer,   Product Manager, Data Engineer, Information Security                                                                                                                                                                                     0.014302\n",
       "Ceo                                                                                                                                                                                                                                                        0.014302\n",
       "  Data Scientist,   Mobile Developer, Information Security                                                                                                                                                                                                 0.014302\n",
       "  DevOps / SysAdmin,   Data Scientist, Data Engineer                                                                                                                                                                                                       0.014302\n",
       "Back-End Web Developer, Full-Stack Web Developer, Data Engineer,   Data Scientist                                                                                                                                                                          0.014302\n",
       "Information Security,   DevOps / SysAdmin,   Data Scientist,   Front-End Web Developer,   Quality Assurance Engineer,   Product Manager, Data Engineer, Back-End Web Developer                                                                             0.014302\n",
       "Full-Stack Web Developer,   Front-End Web Developer,   User Experience Designer, Game Developer,   Mobile Developer                                                                                                                                        0.014302\n",
       "Full-Stack Web Developer,   Front-End Web Developer,   Data Scientist,   Mobile Developer                                                                                                                                                                  0.014302\n",
       "  DevOps / SysAdmin, Full-Stack Web Developer, Game Developer, Back-End Web Developer,   Mobile Developer,   Front-End Web Developer, Information Security                                                                                                 0.014302\n",
       "Full-Stack Web Developer,   Mobile Developer,   DevOps / SysAdmin,   Front-End Web Developer                                                                                                                                                               0.014302\n",
       "Back-End Web Developer,   Product Manager,   Mobile Developer                                                                                                                                                                                              0.014302\n",
       "  Front-End Web Developer, Data Engineer,   DevOps / SysAdmin, Back-End Web Developer, Full-Stack Web Developer,   Mobile Developer,   User Experience Designer, Information Security                                                                      0.014302\n",
       "Information Security, Game Developer,   Quality Assurance Engineer,   Front-End Web Developer,   User Experience Designer,   Mobile Developer, Full-Stack Web Developer, Back-End Web Developer                                                            0.014302\n",
       "Data Engineer,   Data Scientist,   Front-End Web Developer,   DevOps / SysAdmin                                                                                                                                                                            0.014302\n",
       "Name: JobRoleInterest, Length: 3213, dtype: float64"
      ]
     },
     "execution_count": 4,
     "metadata": {},
     "output_type": "execute_result"
    }
   ],
   "source": [
    "# understand if sample is representative of population\n",
    "# generate a frequency distribution table (by percentage)\n",
    "coder_survey['JobRoleInterest'].value_counts(normalize=True)*100"
   ]
  },
  {
   "cell_type": "code",
   "execution_count": 5,
   "metadata": {
    "collapsed": false
   },
   "outputs": [
    {
     "data": {
      "image/png": "[encoded data removed]",
      "text/plain": [
       "<matplotlib.figure.Figure at 0x7f22951b8f28>"
      ]
     },
     "metadata": {},
     "output_type": "display_data"
    }
   ],
   "source": [
    "%matplotlib inline\n",
    "from matplotlib import pyplot as plt\n",
    "\n",
    "# generate a bar chart to visualize interest in different roles (for top 13, not splitting multiple responses into individuals)\n",
    "coder_survey['JobRoleInterest'].value_counts()[:13].plot.bar()\n",
    "plt.title('Interest by Job Category')\n",
    "plt.ylabel('Number of Respondents')\n",
    "plt.show()"
   ]
  },
  {
   "cell_type": "markdown",
   "metadata": {},
   "source": [
    "## Initial Job Interest Analysis\n",
    "\n",
    "For simplicity, the bar graph above only shows the top 13 choices (many of which respondents only selected 1 option). Given this visualization, it is apparent that respondents can choose more than 1 career path as a response. As shown in the bar graph above, most interest (about 1,250 respondents that chose only those values) is Full Stack and Front End Web Development.\n",
    "\n",
    "The focus of the E-learning company is mobile and web development. There is plenty of opportunity to market to the new coders in this survey, as roughly 1,600 respondents chose a career intereste in either mobile or web development (for only those responses depicted in the graph).\n",
    "\n",
    "This indicates that the sample that we are using contains valuable information about the market we would intend to engage."
   ]
  },
  {
   "cell_type": "code",
   "execution_count": 6,
   "metadata": {
    "collapsed": false
   },
   "outputs": [],
   "source": [
    "# explore the countries in which the highest number of respondents live\n",
    "# create new dataframe with only populated values for job interest\n",
    "job_not_null = coder_survey[coder_survey['JobRoleInterest'].notnull()]"
   ]
  },
  {
   "cell_type": "code",
   "execution_count": 7,
   "metadata": {
    "collapsed": false
   },
   "outputs": [
    {
     "data": {
      "text/plain": [
       "United States of America         3125\n",
       "India                             528\n",
       "United Kingdom                    315\n",
       "Canada                            260\n",
       "Poland                            131\n",
       "Brazil                            129\n",
       "Germany                           125\n",
       "Australia                         112\n",
       "Russia                            102\n",
       "Ukraine                            89\n",
       "Nigeria                            84\n",
       "Spain                              77\n",
       "France                             75\n",
       "Romania                            71\n",
       "Netherlands (Holland, Europe)      65\n",
       "Italy                              62\n",
       "Philippines                        52\n",
       "Serbia                             52\n",
       "Greece                             46\n",
       "Ireland                            43\n",
       "South Africa                       39\n",
       "Mexico                             37\n",
       "Turkey                             36\n",
       "Singapore                          34\n",
       "Hungary                            34\n",
       "New Zealand                        33\n",
       "Croatia                            32\n",
       "Argentina                          32\n",
       "Norway                             31\n",
       "Sweden                             31\n",
       "                                 ... \n",
       "Trinidad & Tobago                   1\n",
       "Aruba                               1\n",
       "Gambia                              1\n",
       "Nicaragua                           1\n",
       "Papua New Guinea                    1\n",
       "Panama                              1\n",
       "Somalia                             1\n",
       "Angola                              1\n",
       "Kyrgyzstan                          1\n",
       "Guadeloupe                          1\n",
       "Jordan                              1\n",
       "Myanmar                             1\n",
       "Mozambique                          1\n",
       "Yemen                               1\n",
       "Rwanda                              1\n",
       "Guatemala                           1\n",
       "Turkmenistan                        1\n",
       "Sudan                               1\n",
       "Anguilla                            1\n",
       "Liberia                             1\n",
       "Botswana                            1\n",
       "Cameroon                            1\n",
       "Cuba                                1\n",
       "Vanuatu                             1\n",
       "Channel Islands                     1\n",
       "Samoa                               1\n",
       "Gibraltar                           1\n",
       "Cayman Islands                      1\n",
       "Bolivia                             1\n",
       "Nambia                              1\n",
       "Name: CountryLive, Length: 137, dtype: int64"
      ]
     },
     "execution_count": 7,
     "metadata": {},
     "output_type": "execute_result"
    }
   ],
   "source": [
    "# generate a frequency table for which countries the respondents live in\n",
    "job_not_null['CountryLive'].value_counts()"
   ]
  },
  {
   "cell_type": "markdown",
   "metadata": {},
   "source": [
    "## Countries Analysis\n",
    "\n",
    "As shown in the frequency table above, the 2 most popular countries for respondents that took the survey are the US and India. If our recommendation were based on population of respondents in country alone, we'd consider marketing in the US and India. However, we should continue to evaluate if there are other criteria that would make marketing in other countries more valuable."
   ]
  },
  {
   "cell_type": "code",
   "execution_count": 8,
   "metadata": {
    "collapsed": false
   },
   "outputs": [
    {
     "data": {
      "text/plain": [
       "359"
      ]
     },
     "execution_count": 8,
     "metadata": {},
     "output_type": "execute_result"
    }
   ],
   "source": [
    "# evaluate money spent per month on coding lessons for the top 4 countries from the frequncy table\n",
    "\n",
    "# to avoid dividing by 0, replace 'Months Programming' column with a 1 instead of 0\n",
    "job_not_null['MonthsProgramming'].replace(0, 1, inplace=True)\n",
    "\n",
    "# create a new column for money spent per month\n",
    "job_not_null['MoneySpentPerMonth'] = job_not_null['MoneyForLearning'] / job_not_null['MonthsProgramming']\n",
    "\n",
    "job_not_null['MonthsProgramming'].isnull().sum()"
   ]
  },
  {
   "cell_type": "code",
   "execution_count": 9,
   "metadata": {
    "collapsed": true
   },
   "outputs": [],
   "source": [
    "# remove rows with NULL value for MonthsProgramming\n",
    "valid_months = job_not_null[job_not_null['MonthsProgramming'].notnull()]"
   ]
  },
  {
   "cell_type": "code",
   "execution_count": 10,
   "metadata": {
    "collapsed": true
   },
   "outputs": [],
   "source": [
    "# also remove rows with a NULL value for CountryLive\n",
    "valid_country = valid_months[valid_months['CountryLive'].notnull()]"
   ]
  },
  {
   "cell_type": "code",
   "execution_count": 11,
   "metadata": {
    "collapsed": false
   },
   "outputs": [
    {
     "data": {
      "text/plain": [
       "True     6212\n",
       "False     307\n",
       "Name: MoneySpentPerMonth, dtype: int64"
      ]
     },
     "execution_count": 11,
     "metadata": {},
     "output_type": "execute_result"
    }
   ],
   "source": [
    "valid_country['MoneySpentPerMonth'].notnull().value_counts()"
   ]
  },
  {
   "cell_type": "code",
   "execution_count": 12,
   "metadata": {
    "collapsed": true
   },
   "outputs": [],
   "source": [
    "# remove NULL records from MoneySpentPerMonth\n",
    "valid_money_spent = valid_country[valid_country['MoneySpentPerMonth'].notnull()]"
   ]
  },
  {
   "cell_type": "code",
   "execution_count": 13,
   "metadata": {
    "collapsed": false
   },
   "outputs": [],
   "source": [
    "# group the data by CountryLive and find the mean of each category\n",
    "grouped_countries = valid_money_spent.groupby(['CountryLive']).mean()"
   ]
  },
  {
   "cell_type": "code",
   "execution_count": 14,
   "metadata": {
    "collapsed": false
   },
   "outputs": [
    {
     "name": "stdout",
     "output_type": "stream",
     "text": [
      "United States of America\n",
      "228.0\n",
      "India\n",
      "135.1\n",
      "United Kingdom\n",
      "45.53\n",
      "Canada\n",
      "113.51\n"
     ]
    }
   ],
   "source": [
    "# display the average Money Per Month spent by the top 4 countries from the frequency tabl\n",
    "countries = ['United States of America', 'India', 'United Kingdom', 'Canada']\n",
    "\n",
    "for c in countries:\n",
    "    print(c)\n",
    "    print(round(grouped_countries.loc[c]['MoneySpentPerMonth'], 2))"
   ]
  },
  {
   "cell_type": "code",
   "execution_count": 15,
   "metadata": {
    "collapsed": false
   },
   "outputs": [
    {
     "data": {
      "image/png": "[encoded data removed]",
      "text/plain": [
       "<matplotlib.figure.Figure at 0x7f2295181710>"
      ]
     },
     "metadata": {},
     "output_type": "display_data"
    }
   ],
   "source": [
    "# generate box plots for the amount spent per month on average for the top 4 countries\n",
    "top_countries = valid_money_spent[valid_money_spent['CountryLive'].str.contains('United States of America|India|United Kingdom|Canada')]\n",
    "\n",
    "top_countries.boxplot(column='MoneySpentPerMonth', by='CountryLive')\n",
    "plt.ylim(0, 90000)\n",
    "plt.ylabel('Money Spent Per Month')\n",
    "plt.show()"
   ]
  },
  {
   "cell_type": "markdown",
   "metadata": {},
   "source": [
    "There are 2 outliers for the U.S. - a value of approximately 80,000 and 50,000"
   ]
  },
  {
   "cell_type": "code",
   "execution_count": 16,
   "metadata": {
    "collapsed": false
   },
   "outputs": [
    {
     "data": {
      "image/png": "[encoded data removed]",
      "text/plain": [
       "<matplotlib.figure.Figure at 0x7f2294ffb940>"
      ]
     },
     "metadata": {},
     "output_type": "display_data"
    }
   ],
   "source": [
    "# remove the outlier values for Money Spent Per Month and re-display box plot\n",
    "no_outliers = top_countries[top_countries['MoneySpentPerMonth'] < 20000]\n",
    "\n",
    "no_outliers.boxplot(column='MoneySpentPerMonth', by='CountryLive')\n",
    "plt.ylim(0, 20000)\n",
    "plt.ylabel('Money Spent Per Month')\n",
    "plt.show()"
   ]
  },
  {
   "cell_type": "code",
   "execution_count": 17,
   "metadata": {
    "collapsed": true
   },
   "outputs": [],
   "source": [
    "# re-calculate the mean for Money Spent Per Month for each of the top 4 countries\n",
    "second_grouped = no_outliers.groupby(['CountryLive']).mean()"
   ]
  },
  {
   "cell_type": "code",
   "execution_count": 19,
   "metadata": {
    "collapsed": false
   },
   "outputs": [
    {
     "name": "stdout",
     "output_type": "stream",
     "text": [
      "CountryLive\n",
      "Canada                      113.51\n",
      "India                       135.10\n",
      "United Kingdom               45.53\n",
      "United States of America    183.80\n",
      "Name: MoneySpentPerMonth, dtype: float64\n"
     ]
    }
   ],
   "source": [
    "# display the mean values\n",
    "print(round(second_grouped['MoneySpentPerMonth'], 2))"
   ]
  },
  {
   "cell_type": "markdown",
   "metadata": {},
   "source": [
    "There are several values for Money Spent Per Month that are over 5,000, so those outliers will be removed as well"
   ]
  },
  {
   "cell_type": "code",
   "execution_count": 20,
   "metadata": {
    "collapsed": false
   },
   "outputs": [
    {
     "data": {
      "image/png": "[encoded data removed]",
      "text/plain": [
       "<matplotlib.figure.Figure at 0x7f2294f9ddd8>"
      ]
     },
     "metadata": {},
     "output_type": "display_data"
    }
   ],
   "source": [
    "# remove more outliers\n",
    "less_than_five_k = top_countries[top_countries['MoneySpentPerMonth'] < 5000]\n",
    "\n",
    "# re-plot the box plot\n",
    "less_than_five_k.boxplot(column='MoneySpentPerMonth', by='CountryLive')\n",
    "plt.ylim(0, 5000)\n",
    "plt.ylabel('Money Spent Per Month')\n",
    "plt.show()"
   ]
  },
  {
   "cell_type": "code",
   "execution_count": 22,
   "metadata": {
    "collapsed": false
   },
   "outputs": [
    {
     "name": "stdout",
     "output_type": "stream",
     "text": [
      "CountryLive\n",
      "Canada                       93.07\n",
      "India                        81.81\n",
      "United Kingdom               45.53\n",
      "United States of America    130.64\n",
      "Name: MoneySpentPerMonth, dtype: float64\n"
     ]
    }
   ],
   "source": [
    "# re-compute the mean values for Money Spent Per Month for each country\n",
    "new_grouped = less_than_five_k.groupby(['CountryLive']).mean()\n",
    "print(round(new_grouped['MoneySpentPerMonth'], 2))"
   ]
  },
  {
   "cell_type": "markdown",
   "metadata": {},
   "source": [
    "# Summary\n",
    "\n",
    "Based on the fact that the USA spends the most per month on average, as well as it has by far the most number of respondents in the initial survey, it is clear that our E-Learning company should market in the U.S. Additionally, India has the second most respondents (over 500), and still spends approximately 81 USD per month on average for coding lessons, so it makes sense to market in India as well. Although Canada spends 93 USD per month on average, the market is relatively small, so it wouldn't be advisable to market in Canada. Additionally, the U.K. only spends about 45 USD per month on average, and our product would be $59 per month, so it does not make sens to market in the U.K."
   ]
  }
 ],
 "metadata": {
  "kernelspec": {
   "display_name": "Python 3",
   "language": "python",
   "name": "python3"
  },
  "language_info": {
   "codemirror_mode": {
    "name": "ipython",
    "version": 3
   },
   "file_extension": ".py",
   "mimetype": "text/x-python",
   "name": "python",
   "nbconvert_exporter": "python",
   "pygments_lexer": "ipython3",
   "version": "3.4.3"
  }
 },
 "nbformat": 4,
 "nbformat_minor": 2
}
