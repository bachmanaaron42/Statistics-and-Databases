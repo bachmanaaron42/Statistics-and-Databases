{
 "cells": [
  {
   "cell_type": "markdown",
   "metadata": {},
   "source": [
    "# Answering Business Questions with SQL\n",
    "\n",
    "This analysis will use the SQLite module in Python to answer business questions about the Chinook record store."
   ]
  },
  {
   "cell_type": "code",
   "execution_count": 1,
   "metadata": {
    "collapsed": true
   },
   "outputs": [],
   "source": [
    "import sqlite3\n",
    "import pandas as pd\n",
    "import matplotlib\n",
    "%matplotlib inline\n",
    "\n",
    "# function to execute SQL queries agains the chinook database\n",
    "def run_query(query):\n",
    "    with sqlite3.connect('chinook.db') as connection:\n",
    "        # return the query results as a dataframe\n",
    "        query_result = pd.read_sql(query, connection)\n",
    "        return query_result\n",
    "\n",
    "# function to execute SQL commands that don't return a table\n",
    "def run_command(q):\n",
    "    with sqlite3.connect('chinook.db') as conn:\n",
    "        conn.isolation_level = None\n",
    "        conn.execute(q)\n",
    "\n",
    "# function to display a list of all tables and view in the database\n",
    "def show_tables():\n",
    "    sql_query = \"\"\"\n",
    "        SELECT name, type\n",
    "        FROM sqlite_master\n",
    "        WHERE type IN ('table', 'view')\n",
    "    \"\"\"\n",
    "    return run_query(sql_query)"
   ]
  },
  {
   "cell_type": "code",
   "execution_count": 2,
   "metadata": {
    "collapsed": false
   },
   "outputs": [
    {
     "data": {
      "text/html": [
       "<div>\n",
       "<style scoped>\n",
       "    .dataframe tbody tr th:only-of-type {\n",
       "        vertical-align: middle;\n",
       "    }\n",
       "\n",
       "    .dataframe tbody tr th {\n",
       "        vertical-align: top;\n",
       "    }\n",
       "\n",
       "    .dataframe thead th {\n",
       "        text-align: right;\n",
       "    }\n",
       "</style>\n",
       "<table border=\"1\" class=\"dataframe\">\n",
       "  <thead>\n",
       "    <tr style=\"text-align: right;\">\n",
       "      <th></th>\n",
       "      <th>name</th>\n",
       "      <th>type</th>\n",
       "    </tr>\n",
       "  </thead>\n",
       "  <tbody>\n",
       "    <tr>\n",
       "      <th>0</th>\n",
       "      <td>album</td>\n",
       "      <td>table</td>\n",
       "    </tr>\n",
       "    <tr>\n",
       "      <th>1</th>\n",
       "      <td>artist</td>\n",
       "      <td>table</td>\n",
       "    </tr>\n",
       "    <tr>\n",
       "      <th>2</th>\n",
       "      <td>customer</td>\n",
       "      <td>table</td>\n",
       "    </tr>\n",
       "    <tr>\n",
       "      <th>3</th>\n",
       "      <td>employee</td>\n",
       "      <td>table</td>\n",
       "    </tr>\n",
       "    <tr>\n",
       "      <th>4</th>\n",
       "      <td>genre</td>\n",
       "      <td>table</td>\n",
       "    </tr>\n",
       "    <tr>\n",
       "      <th>5</th>\n",
       "      <td>invoice</td>\n",
       "      <td>table</td>\n",
       "    </tr>\n",
       "    <tr>\n",
       "      <th>6</th>\n",
       "      <td>invoice_line</td>\n",
       "      <td>table</td>\n",
       "    </tr>\n",
       "    <tr>\n",
       "      <th>7</th>\n",
       "      <td>media_type</td>\n",
       "      <td>table</td>\n",
       "    </tr>\n",
       "    <tr>\n",
       "      <th>8</th>\n",
       "      <td>playlist</td>\n",
       "      <td>table</td>\n",
       "    </tr>\n",
       "    <tr>\n",
       "      <th>9</th>\n",
       "      <td>playlist_track</td>\n",
       "      <td>table</td>\n",
       "    </tr>\n",
       "    <tr>\n",
       "      <th>10</th>\n",
       "      <td>track</td>\n",
       "      <td>table</td>\n",
       "    </tr>\n",
       "  </tbody>\n",
       "</table>\n",
       "</div>"
      ],
      "text/plain": [
       "              name   type\n",
       "0            album  table\n",
       "1           artist  table\n",
       "2         customer  table\n",
       "3         employee  table\n",
       "4            genre  table\n",
       "5          invoice  table\n",
       "6     invoice_line  table\n",
       "7       media_type  table\n",
       "8         playlist  table\n",
       "9   playlist_track  table\n",
       "10           track  table"
      ]
     },
     "execution_count": 2,
     "metadata": {},
     "output_type": "execute_result"
    }
   ],
   "source": [
    "# validate the output of the current database tables and views\n",
    "show_tables()"
   ]
  },
  {
   "cell_type": "code",
   "execution_count": 3,
   "metadata": {
    "collapsed": false
   },
   "outputs": [],
   "source": [
    "# return the number of tracks sold per genre in the U.S.\n",
    "qry = \"\"\"\n",
    "    SELECT g.name Genre, COUNT(*) tracks_sold\n",
    "    FROM track t\n",
    "    INNER JOIN invoice_line il\n",
    "    ON t.track_id = il.track_id\n",
    "    INNER JOIN invoice i\n",
    "    ON il.invoice_id = i.invoice_id\n",
    "    INNER JOIN customer c\n",
    "    ON i.customer_id = c.customer_id\n",
    "    INNER JOIN genre g\n",
    "    on t.genre_id = g.genre_id\n",
    "    WHERE c.country = \"USA\"\n",
    "    GROUP BY g.name\n",
    "    ORDER BY tracks_sold DESC\n",
    "\"\"\"\n",
    "\n",
    "top_genres_usa = run_query(qry)"
   ]
  },
  {
   "cell_type": "code",
   "execution_count": 4,
   "metadata": {
    "collapsed": false
   },
   "outputs": [
    {
     "data": {
      "text/html": [
       "<div>\n",
       "<style scoped>\n",
       "    .dataframe tbody tr th:only-of-type {\n",
       "        vertical-align: middle;\n",
       "    }\n",
       "\n",
       "    .dataframe tbody tr th {\n",
       "        vertical-align: top;\n",
       "    }\n",
       "\n",
       "    .dataframe thead th {\n",
       "        text-align: right;\n",
       "    }\n",
       "</style>\n",
       "<table border=\"1\" class=\"dataframe\">\n",
       "  <thead>\n",
       "    <tr style=\"text-align: right;\">\n",
       "      <th></th>\n",
       "      <th>Genre</th>\n",
       "      <th>tracks_sold</th>\n",
       "    </tr>\n",
       "  </thead>\n",
       "  <tbody>\n",
       "    <tr>\n",
       "      <th>0</th>\n",
       "      <td>Rock</td>\n",
       "      <td>561</td>\n",
       "    </tr>\n",
       "    <tr>\n",
       "      <th>1</th>\n",
       "      <td>Alternative &amp; Punk</td>\n",
       "      <td>130</td>\n",
       "    </tr>\n",
       "    <tr>\n",
       "      <th>2</th>\n",
       "      <td>Metal</td>\n",
       "      <td>124</td>\n",
       "    </tr>\n",
       "    <tr>\n",
       "      <th>3</th>\n",
       "      <td>R&amp;B/Soul</td>\n",
       "      <td>53</td>\n",
       "    </tr>\n",
       "    <tr>\n",
       "      <th>4</th>\n",
       "      <td>Blues</td>\n",
       "      <td>36</td>\n",
       "    </tr>\n",
       "    <tr>\n",
       "      <th>5</th>\n",
       "      <td>Alternative</td>\n",
       "      <td>35</td>\n",
       "    </tr>\n",
       "    <tr>\n",
       "      <th>6</th>\n",
       "      <td>Latin</td>\n",
       "      <td>22</td>\n",
       "    </tr>\n",
       "    <tr>\n",
       "      <th>7</th>\n",
       "      <td>Pop</td>\n",
       "      <td>22</td>\n",
       "    </tr>\n",
       "    <tr>\n",
       "      <th>8</th>\n",
       "      <td>Hip Hop/Rap</td>\n",
       "      <td>20</td>\n",
       "    </tr>\n",
       "    <tr>\n",
       "      <th>9</th>\n",
       "      <td>Jazz</td>\n",
       "      <td>14</td>\n",
       "    </tr>\n",
       "    <tr>\n",
       "      <th>10</th>\n",
       "      <td>Easy Listening</td>\n",
       "      <td>13</td>\n",
       "    </tr>\n",
       "    <tr>\n",
       "      <th>11</th>\n",
       "      <td>Reggae</td>\n",
       "      <td>6</td>\n",
       "    </tr>\n",
       "    <tr>\n",
       "      <th>12</th>\n",
       "      <td>Electronica/Dance</td>\n",
       "      <td>5</td>\n",
       "    </tr>\n",
       "    <tr>\n",
       "      <th>13</th>\n",
       "      <td>Classical</td>\n",
       "      <td>4</td>\n",
       "    </tr>\n",
       "    <tr>\n",
       "      <th>14</th>\n",
       "      <td>Heavy Metal</td>\n",
       "      <td>3</td>\n",
       "    </tr>\n",
       "    <tr>\n",
       "      <th>15</th>\n",
       "      <td>Soundtrack</td>\n",
       "      <td>2</td>\n",
       "    </tr>\n",
       "    <tr>\n",
       "      <th>16</th>\n",
       "      <td>TV Shows</td>\n",
       "      <td>1</td>\n",
       "    </tr>\n",
       "  </tbody>\n",
       "</table>\n",
       "</div>"
      ],
      "text/plain": [
       "                 Genre  tracks_sold\n",
       "0                 Rock          561\n",
       "1   Alternative & Punk          130\n",
       "2                Metal          124\n",
       "3             R&B/Soul           53\n",
       "4                Blues           36\n",
       "5          Alternative           35\n",
       "6                Latin           22\n",
       "7                  Pop           22\n",
       "8          Hip Hop/Rap           20\n",
       "9                 Jazz           14\n",
       "10      Easy Listening           13\n",
       "11              Reggae            6\n",
       "12   Electronica/Dance            5\n",
       "13           Classical            4\n",
       "14         Heavy Metal            3\n",
       "15          Soundtrack            2\n",
       "16            TV Shows            1"
      ]
     },
     "execution_count": 4,
     "metadata": {},
     "output_type": "execute_result"
    }
   ],
   "source": [
    "# visualize the output\n",
    "top_genres_usa"
   ]
  },
  {
   "cell_type": "code",
   "execution_count": 5,
   "metadata": {
    "collapsed": false
   },
   "outputs": [
    {
     "data": {
      "text/plain": [
       "<matplotlib.text.Text at 0x7ff4494b6320>"
      ]
     },
     "execution_count": 5,
     "metadata": {},
     "output_type": "execute_result"
    },
    {
     "data": {
      "image/png": "[encoded data removed]",
      "text/plain": [
       "<matplotlib.figure.Figure at 0x7ff4534d7978>"
      ]
     },
     "metadata": {},
     "output_type": "display_data"
    }
   ],
   "source": [
    "# set the dataframe index to Genre\n",
    "top_genres_usa.set_index('Genre')\n",
    "\n",
    "# create a visualization for the top U.S. genres\n",
    "top_genres_usa.plot(x='Genre', y='tracks_sold', kind='barh', legend=False)\n",
    "matplotlib.pyplot.xlabel('Tracks Sold')\n",
    "matplotlib.pyplot.title('Top Genres in the U.S.')"
   ]
  },
  {
   "cell_type": "markdown",
   "metadata": {},
   "source": [
    "### Top Genres in the U.S.\n",
    "\n",
    "As shown in the visualization above, Rock is the highest selling genre in the by a margin of over 400 track sales, followed by Alternative & Punk, with Metal being 3rd."
   ]
  },
  {
   "cell_type": "code",
   "execution_count": 6,
   "metadata": {
    "collapsed": false
   },
   "outputs": [
    {
     "data": {
      "text/html": [
       "<div>\n",
       "<style scoped>\n",
       "    .dataframe tbody tr th:only-of-type {\n",
       "        vertical-align: middle;\n",
       "    }\n",
       "\n",
       "    .dataframe tbody tr th {\n",
       "        vertical-align: top;\n",
       "    }\n",
       "\n",
       "    .dataframe thead th {\n",
       "        text-align: right;\n",
       "    }\n",
       "</style>\n",
       "<table border=\"1\" class=\"dataframe\">\n",
       "  <thead>\n",
       "    <tr style=\"text-align: right;\">\n",
       "      <th></th>\n",
       "      <th>Employee</th>\n",
       "      <th>Sales</th>\n",
       "    </tr>\n",
       "  </thead>\n",
       "  <tbody>\n",
       "    <tr>\n",
       "      <th>0</th>\n",
       "      <td>Jane Peacock</td>\n",
       "      <td>1731.51</td>\n",
       "    </tr>\n",
       "    <tr>\n",
       "      <th>1</th>\n",
       "      <td>Margaret Park</td>\n",
       "      <td>1584.00</td>\n",
       "    </tr>\n",
       "    <tr>\n",
       "      <th>2</th>\n",
       "      <td>Steve Johnson</td>\n",
       "      <td>1393.92</td>\n",
       "    </tr>\n",
       "  </tbody>\n",
       "</table>\n",
       "</div>"
      ],
      "text/plain": [
       "        Employee    Sales\n",
       "0   Jane Peacock  1731.51\n",
       "1  Margaret Park  1584.00\n",
       "2  Steve Johnson  1393.92"
      ]
     },
     "execution_count": 6,
     "metadata": {},
     "output_type": "execute_result"
    }
   ],
   "source": [
    "# return the sales dollars for each support agent\n",
    "sql_q = \"\"\"\n",
    "    SELECT e.first_name || ' ' || e.last_name Employee,\n",
    "        SUM(i.total) Sales\n",
    "    FROM invoice i\n",
    "    INNER JOIN customer c\n",
    "    ON i.customer_id = c.customer_id\n",
    "    INNER JOIN employee e\n",
    "    ON c.support_rep_id = e.employee_id\n",
    "    GROUP BY Employee\n",
    "    ORDER BY Sales DESC\n",
    "\"\"\"\n",
    "\n",
    "sales_per_rep = run_query(sql_q)\n",
    "\n",
    "# display results\n",
    "sales_per_rep"
   ]
  },
  {
   "cell_type": "code",
   "execution_count": 7,
   "metadata": {
    "collapsed": false
   },
   "outputs": [
    {
     "data": {
      "text/plain": [
       "(array([0, 1, 2]), <a list of 3 Text xticklabel objects>)"
      ]
     },
     "execution_count": 7,
     "metadata": {},
     "output_type": "execute_result"
    },
    {
     "data": {
      "image/png": "[encoded data removed]",
      "text/plain": [
       "<matplotlib.figure.Figure at 0x7ff44947cfd0>"
      ]
     },
     "metadata": {},
     "output_type": "display_data"
    }
   ],
   "source": [
    "# visualize the results\n",
    "sales_per_rep.plot(x='Employee', y='Sales', kind='bar', legend=False)\n",
    "matplotlib.pyplot.xlabel('Sales Rep')\n",
    "matplotlib.pyplot.ylabel('Total Sales')\n",
    "matplotlib.pyplot.title('Sales by Sales Rep')\n",
    "matplotlib.pyplot.xticks(rotation='horizontal')"
   ]
  },
  {
   "cell_type": "markdown",
   "metadata": {},
   "source": [
    "### Sales by Sales Rep\n",
    "\n",
    "As shown in the visualization above, Jane high the highest sales, followed by Margaret, and then Steve. Although there are more employees at the Chinook record store, Jane, Margaret, and Steve are the only Sales Reps, so they are the only employees that have made any sales, and therefore, only the records for these employees are showing for the query (due to using INNER JOIN)."
   ]
  },
  {
   "cell_type": "code",
   "execution_count": 8,
   "metadata": {
    "collapsed": false
   },
   "outputs": [
    {
     "data": {
      "text/html": [
       "<div>\n",
       "<style scoped>\n",
       "    .dataframe tbody tr th:only-of-type {\n",
       "        vertical-align: middle;\n",
       "    }\n",
       "\n",
       "    .dataframe tbody tr th {\n",
       "        vertical-align: top;\n",
       "    }\n",
       "\n",
       "    .dataframe thead th {\n",
       "        text-align: right;\n",
       "    }\n",
       "</style>\n",
       "<table border=\"1\" class=\"dataframe\">\n",
       "  <thead>\n",
       "    <tr style=\"text-align: right;\">\n",
       "      <th></th>\n",
       "      <th>country</th>\n",
       "      <th>Num_Customers</th>\n",
       "      <th>Total_Sales</th>\n",
       "      <th>Value_Per_Customer</th>\n",
       "    </tr>\n",
       "  </thead>\n",
       "  <tbody>\n",
       "    <tr>\n",
       "      <th>0</th>\n",
       "      <td>USA</td>\n",
       "      <td>13</td>\n",
       "      <td>72.27</td>\n",
       "      <td>5.56</td>\n",
       "    </tr>\n",
       "    <tr>\n",
       "      <th>1</th>\n",
       "      <td>Canada</td>\n",
       "      <td>8</td>\n",
       "      <td>75.24</td>\n",
       "      <td>9.41</td>\n",
       "    </tr>\n",
       "    <tr>\n",
       "      <th>2</th>\n",
       "      <td>Brazil</td>\n",
       "      <td>5</td>\n",
       "      <td>106.92</td>\n",
       "      <td>21.38</td>\n",
       "    </tr>\n",
       "    <tr>\n",
       "      <th>3</th>\n",
       "      <td>France</td>\n",
       "      <td>5</td>\n",
       "      <td>73.26</td>\n",
       "      <td>14.65</td>\n",
       "    </tr>\n",
       "    <tr>\n",
       "      <th>4</th>\n",
       "      <td>Germany</td>\n",
       "      <td>4</td>\n",
       "      <td>73.26</td>\n",
       "      <td>18.31</td>\n",
       "    </tr>\n",
       "    <tr>\n",
       "      <th>5</th>\n",
       "      <td>United Kingdom</td>\n",
       "      <td>3</td>\n",
       "      <td>79.20</td>\n",
       "      <td>26.40</td>\n",
       "    </tr>\n",
       "    <tr>\n",
       "      <th>6</th>\n",
       "      <td>Czech Republic</td>\n",
       "      <td>2</td>\n",
       "      <td>128.70</td>\n",
       "      <td>64.35</td>\n",
       "    </tr>\n",
       "    <tr>\n",
       "      <th>7</th>\n",
       "      <td>India</td>\n",
       "      <td>2</td>\n",
       "      <td>71.28</td>\n",
       "      <td>35.64</td>\n",
       "    </tr>\n",
       "    <tr>\n",
       "      <th>8</th>\n",
       "      <td>Portugal</td>\n",
       "      <td>2</td>\n",
       "      <td>82.17</td>\n",
       "      <td>41.09</td>\n",
       "    </tr>\n",
       "    <tr>\n",
       "      <th>9</th>\n",
       "      <td>Argentina</td>\n",
       "      <td>1</td>\n",
       "      <td>39.60</td>\n",
       "      <td>39.60</td>\n",
       "    </tr>\n",
       "    <tr>\n",
       "      <th>10</th>\n",
       "      <td>Australia</td>\n",
       "      <td>1</td>\n",
       "      <td>81.18</td>\n",
       "      <td>81.18</td>\n",
       "    </tr>\n",
       "    <tr>\n",
       "      <th>11</th>\n",
       "      <td>Austria</td>\n",
       "      <td>1</td>\n",
       "      <td>69.30</td>\n",
       "      <td>69.30</td>\n",
       "    </tr>\n",
       "    <tr>\n",
       "      <th>12</th>\n",
       "      <td>Belgium</td>\n",
       "      <td>1</td>\n",
       "      <td>60.39</td>\n",
       "      <td>60.39</td>\n",
       "    </tr>\n",
       "    <tr>\n",
       "      <th>13</th>\n",
       "      <td>Chile</td>\n",
       "      <td>1</td>\n",
       "      <td>97.02</td>\n",
       "      <td>97.02</td>\n",
       "    </tr>\n",
       "    <tr>\n",
       "      <th>14</th>\n",
       "      <td>Denmark</td>\n",
       "      <td>1</td>\n",
       "      <td>37.62</td>\n",
       "      <td>37.62</td>\n",
       "    </tr>\n",
       "    <tr>\n",
       "      <th>15</th>\n",
       "      <td>Finland</td>\n",
       "      <td>1</td>\n",
       "      <td>79.20</td>\n",
       "      <td>79.20</td>\n",
       "    </tr>\n",
       "    <tr>\n",
       "      <th>16</th>\n",
       "      <td>Hungary</td>\n",
       "      <td>1</td>\n",
       "      <td>78.21</td>\n",
       "      <td>78.21</td>\n",
       "    </tr>\n",
       "    <tr>\n",
       "      <th>17</th>\n",
       "      <td>Ireland</td>\n",
       "      <td>1</td>\n",
       "      <td>114.84</td>\n",
       "      <td>114.84</td>\n",
       "    </tr>\n",
       "    <tr>\n",
       "      <th>18</th>\n",
       "      <td>Italy</td>\n",
       "      <td>1</td>\n",
       "      <td>50.49</td>\n",
       "      <td>50.49</td>\n",
       "    </tr>\n",
       "    <tr>\n",
       "      <th>19</th>\n",
       "      <td>Netherlands</td>\n",
       "      <td>1</td>\n",
       "      <td>65.34</td>\n",
       "      <td>65.34</td>\n",
       "    </tr>\n",
       "    <tr>\n",
       "      <th>20</th>\n",
       "      <td>Norway</td>\n",
       "      <td>1</td>\n",
       "      <td>72.27</td>\n",
       "      <td>72.27</td>\n",
       "    </tr>\n",
       "    <tr>\n",
       "      <th>21</th>\n",
       "      <td>Poland</td>\n",
       "      <td>1</td>\n",
       "      <td>76.23</td>\n",
       "      <td>76.23</td>\n",
       "    </tr>\n",
       "    <tr>\n",
       "      <th>22</th>\n",
       "      <td>Spain</td>\n",
       "      <td>1</td>\n",
       "      <td>98.01</td>\n",
       "      <td>98.01</td>\n",
       "    </tr>\n",
       "    <tr>\n",
       "      <th>23</th>\n",
       "      <td>Sweden</td>\n",
       "      <td>1</td>\n",
       "      <td>75.24</td>\n",
       "      <td>75.24</td>\n",
       "    </tr>\n",
       "  </tbody>\n",
       "</table>\n",
       "</div>"
      ],
      "text/plain": [
       "           country  Num_Customers  Total_Sales  Value_Per_Customer\n",
       "0              USA             13        72.27                5.56\n",
       "1           Canada              8        75.24                9.41\n",
       "2           Brazil              5       106.92               21.38\n",
       "3           France              5        73.26               14.65\n",
       "4          Germany              4        73.26               18.31\n",
       "5   United Kingdom              3        79.20               26.40\n",
       "6   Czech Republic              2       128.70               64.35\n",
       "7            India              2        71.28               35.64\n",
       "8         Portugal              2        82.17               41.09\n",
       "9        Argentina              1        39.60               39.60\n",
       "10       Australia              1        81.18               81.18\n",
       "11         Austria              1        69.30               69.30\n",
       "12         Belgium              1        60.39               60.39\n",
       "13           Chile              1        97.02               97.02\n",
       "14         Denmark              1        37.62               37.62\n",
       "15         Finland              1        79.20               79.20\n",
       "16         Hungary              1        78.21               78.21\n",
       "17         Ireland              1       114.84              114.84\n",
       "18           Italy              1        50.49               50.49\n",
       "19     Netherlands              1        65.34               65.34\n",
       "20          Norway              1        72.27               72.27\n",
       "21          Poland              1        76.23               76.23\n",
       "22           Spain              1        98.01               98.01\n",
       "23          Sweden              1        75.24               75.24"
      ]
     },
     "execution_count": 8,
     "metadata": {},
     "output_type": "execute_result"
    }
   ],
   "source": [
    "# return customer and sales data for each country\n",
    "sl_q = \"\"\"\n",
    "    SELECT DISTINCT(countries.country), \n",
    "        countries.Num_Customers, \n",
    "        inv.Total_Sales,\n",
    "        ROUND((inv.Total_Sales / countries.Num_Customers), 2) Value_Per_Customer\n",
    "    FROM (\n",
    "        SELECT c.customer_id, \n",
    "            c.country, \n",
    "            COUNT(*) Num_Customers\n",
    "        FROM customer c\n",
    "        GROUP BY c.country\n",
    "        ORDER BY Num_Customers DESC\n",
    "    ) countries\n",
    "    INNER JOIN (\n",
    "        SELECT cust.customer_id, SUM(i.total) AS Total_Sales\n",
    "        FROM invoice i\n",
    "        INNER JOIN customer cust\n",
    "        ON i.customer_id = cust.customer_id\n",
    "        GROUP BY cust.customer_id\n",
    "    ) inv\n",
    "    ON countries.customer_id = inv.customer_id\n",
    "\"\"\"\n",
    "\n",
    "country_data = run_query(sl_q)\n",
    "\n",
    "# display results\n",
    "country_data"
   ]
  },
  {
   "cell_type": "code",
   "execution_count": 9,
   "metadata": {
    "collapsed": false
   },
   "outputs": [
    {
     "data": {
      "text/plain": [
       "<matplotlib.text.Text at 0x7ff4493306a0>"
      ]
     },
     "execution_count": 9,
     "metadata": {},
     "output_type": "execute_result"
    },
    {
     "data": {
      "image/png": "[encoded data removed]",
      "text/plain": [
       "<matplotlib.figure.Figure at 0x7ff44942b710>"
      ]
     },
     "metadata": {},
     "output_type": "display_data"
    }
   ],
   "source": [
    "# visualize number of customers per country\n",
    "country_data.plot(x='country', y='Num_Customers', kind='barh', legend=False)\n",
    "matplotlib.pyplot.xlabel('Number of Customers')\n",
    "matplotlib.pyplot.title('Number of Customers per Country')"
   ]
  },
  {
   "cell_type": "code",
   "execution_count": 10,
   "metadata": {
    "collapsed": false,
    "scrolled": true
   },
   "outputs": [
    {
     "data": {
      "text/plain": [
       "<matplotlib.text.Text at 0x7ff44928cf28>"
      ]
     },
     "execution_count": 10,
     "metadata": {},
     "output_type": "execute_result"
    },
    {
     "data": {
      "image/png": "[encoded data removed]",
      "text/plain": [
       "<matplotlib.figure.Figure at 0x7ff4493a22b0>"
      ]
     },
     "metadata": {},
     "output_type": "display_data"
    }
   ],
   "source": [
    "# visualize total sales per country\n",
    "country_data.plot(x='country', y='Total_Sales', kind='barh', legend=False)\n",
    "matplotlib.pyplot.xlabel('Total Sales')\n",
    "matplotlib.pyplot.title('Total Sales per Country')"
   ]
  },
  {
   "cell_type": "code",
   "execution_count": 11,
   "metadata": {
    "collapsed": false
   },
   "outputs": [
    {
     "data": {
      "text/plain": [
       "<matplotlib.text.Text at 0x7ff44916fa20>"
      ]
     },
     "execution_count": 11,
     "metadata": {},
     "output_type": "execute_result"
    },
    {
     "data": {
      "image/png": "[encoded data removed]",
      "text/plain": [
       "<matplotlib.figure.Figure at 0x7ff449337cf8>"
      ]
     },
     "metadata": {},
     "output_type": "display_data"
    }
   ],
   "source": [
    "# visualize value per customer per country\n",
    "country_data.plot(x='country', y='Value_Per_Customer', kind='barh', legend=False)\n",
    "matplotlib.pyplot.xlabel('Value per Customer')\n",
    "matplotlib.pyplot.title('Customer Value per Country')"
   ]
  },
  {
   "cell_type": "markdown",
   "metadata": {},
   "source": [
    "###  Customer and Sales Analysis\n",
    "\n",
    "As shown in the visualizations above, the highest number of customers are in the U.S., Canada, and Brazil. The total sales are highest in Czech Republic, Ireland, and Brazil, whereas the value per customer is the highest in Ireland, Spain, and Chile.\n",
    "\n",
    "Using the data, the recommendation for which countries the Chinook record store should market in would be Brazil (due to third highest sales and third most customers), Chile (due to third most customer value, fifth most sales, and only 1 customer), and Czech Republic (due to most total sales with only 2 customers)."
   ]
  }
 ],
 "metadata": {
  "kernelspec": {
   "display_name": "Python 3",
   "language": "python",
   "name": "python3"
  },
  "language_info": {
   "codemirror_mode": {
    "name": "ipython",
    "version": 3
   },
   "file_extension": ".py",
   "mimetype": "text/x-python",
   "name": "python",
   "nbconvert_exporter": "python",
   "pygments_lexer": "ipython3",
   "version": "3.4.3"
  }
 },
 "nbformat": 4,
 "nbformat_minor": 2
}
